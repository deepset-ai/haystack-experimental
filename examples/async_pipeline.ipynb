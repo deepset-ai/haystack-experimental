{
 "cells": [
  {
   "cell_type": "markdown",
   "metadata": {},
   "source": [
    "<a href=\"https://colab.research.google.com/github/deepset-ai/haystack-experimental/blob/main/examples/async_pipeline.ipynb\" target=\"_parent\"><img src=\"https://colab.research.google.com/assets/colab-badge.svg\" alt=\"Open In Colab\"/></a>\n",
    "\n",
    "# Running Haystack Pipelines in Asynchronous Environments\n",
    "\n",
    "In this notebook, you'll learn how to use the `AsyncPipeline` and async-enabled components from the [haystack-experimental](https://github.com/deepset-ai/haystack-experimental) repository to build and execute a Haystack pipeline in an asynchronous environment. It's based on [this short Haystack tutorial](https://haystack.deepset.ai/tutorials/27_first_rag_pipeline), so it would be a good idea to familiarize yourself with it before we begin. A further prerequisite is working knowledge of cooperative scheduling and [async programming in Python](https://docs.python.org/3/library/asyncio.html).\n",
    "\n",
    "## Motivation\n",
    "\n",
    "By default, the `Pipeline` class in `haystack` is a regular Python object class that exposes non-`async` methods to add/connect components and execute the pipeline logic. Currently, it *can* be used in async environments, but it's not optimal to do so since it executes its logic in a '[blocking](https://en.wikipedia.org/wiki/Blocking_(computing))' fashion, i.e., once the `Pipeline.run` method is invoked, it must run to completion and return the outputs before the next statement of code can be executed<sup>1</sup>. In a typical async environment, this prevents active async event loop from scheduling other `async` coroutines, thereby reducing throughput. Similarly, Haystack components currently only provide a non-`async` `run` method for their execution. To mitigate this bottleneck, we introduce the concept of async-enabled Haystack components and an `AsyncPipeline` class that cooperatively schedules the execution of both async and non-async components.\n",
    "\n",
    "### Goals\n",
    "- Allow individual components to opt into `async` support.\n",
    "    - Not all components benefit from being async-enabled - I/O-bound components are the most suitable candidates.\n",
    "- Provide a backward-compatible way to execute Haystack pipelines containing both async and non-async components.\n",
    "\n",
    "### Non-goals\n",
    "- Add async support to all existing components.\n",
    "- Execute components concurrently.\n",
    "    - While async support opens the door for concurrent execution, we're currently only focusing on providing basic `async` utility.\n",
    "\n",
    "<sup>1</sup> - This is a simplification as the Python runtime can potentially schedule another thread, but it's a detail that we can ignore in this case."
   ]
  },
  {
   "cell_type": "markdown",
   "metadata": {},
   "source": [
    "Let's now go ahead and see what it takes to add async support to the original tutorial, starting with installing Haystack, the experimental package and the requisite dependencies.\n"
   ]
  },
  {
   "cell_type": "code",
   "execution_count": null,
   "metadata": {},
   "outputs": [],
   "source": [
    "%%bash\n",
    "\n",
    "pip install -U haystack-ai\n",
    "pip install -U haystack-experimental\n",
    "pip install datasets\n",
    "pip install sentence-transformers"
   ]
  },
  {
   "cell_type": "markdown",
   "metadata": {},
   "source": [
    "Provide an [OpenAI API key](https://platform.openai.com/api-keys) to ensure that LLM generator can query the OpenAI API."
   ]
  },
  {
   "cell_type": "code",
   "execution_count": null,
   "metadata": {},
   "outputs": [],
   "source": [
    "import os\n",
    "from getpass import getpass\n",
    "\n",
    "if \"OPENAI_API_KEY\" not in os.environ:\n",
    "    os.environ[\"OPENAI_API_KEY\"] = getpass(\"Enter OpenAI API key:\")\n",
    "\n",
    "# If you're running this notebook on Google Colab, you might need to the following instead:\n",
    "#\n",
    "# from google.colab import userdata\n",
    "# if \"OPENAI_API_KEY\" not in os.environ:\n",
    "#  os.environ[\"OPENAI_API_KEY\"] = userdata.get('OPENAI_API_KEY')"
   ]
  },
  {
   "cell_type": "markdown",
   "metadata": {},
   "source": [
    "Initialize a `DocumentStore` to index your documents. We use the `InMemoryDocumentStore` from the `haystack-experimental` package since it has support for `async`."
   ]
  },
  {
   "cell_type": "code",
   "execution_count": 15,
   "metadata": {},
   "outputs": [],
   "source": [
    "from haystack_experimental.document_stores.in_memory import InMemoryDocumentStore\n",
    "\n",
    "document_store = InMemoryDocumentStore()"
   ]
  },
  {
   "cell_type": "markdown",
   "metadata": {},
   "source": [
    "Fetch the data and convert it into Haystack `Document`s."
   ]
  },
  {
   "cell_type": "code",
   "execution_count": 16,
   "metadata": {},
   "outputs": [],
   "source": [
    "from datasets import load_dataset\n",
    "from haystack import Document\n",
    "\n",
    "dataset = load_dataset(\"bilgeyucel/seven-wonders\", split=\"train\")\n",
    "docs = [Document(content=doc[\"content\"], meta=doc[\"meta\"]) for doc in dataset]"
   ]
  },
  {
   "cell_type": "markdown",
   "metadata": {},
   "source": [
    "To store your data in the `DocumentStore` with embeddings, initialize a `SentenceTransformersDocumentEmbedder` with the model name and call `warm_up()` to download the embedding model.\n",
    "\n",
    "Then, we calculate the embeddings of the docs with the newly warmed-up embedder and write the documents to the document store. Notice that we call the `write_documents_async` method and use the `await` keyword with it. The `DocumentStore` protocol in `haystack-experimental` exposes `async` variants of common methods such as `count_documents`, `write_documents`, etc. These [coroutines](https://docs.python.org/3/library/asyncio-task.html#coroutines) are awaitable when invoked inside an async event loop (the notebook/Google Colab kernel automatically starts an event loop)."
   ]
  },
  {
   "cell_type": "code",
   "execution_count": 17,
   "metadata": {},
   "outputs": [
    {
     "data": {
      "application/vnd.jupyter.widget-view+json": {
       "model_id": "46d2b8f867b249b9b394312fa8d9a154",
       "version_major": 2,
       "version_minor": 0
      },
      "text/plain": [
       "Batches:   0%|          | 0/5 [00:00<?, ?it/s]"
      ]
     },
     "metadata": {},
     "output_type": "display_data"
    },
    {
     "name": "stdout",
     "output_type": "stream",
     "text": [
      "Indexed 151 documents\n"
     ]
    }
   ],
   "source": [
    "from haystack.components.embedders import SentenceTransformersDocumentEmbedder\n",
    "\n",
    "doc_embedder = SentenceTransformersDocumentEmbedder(\n",
    "    model=\"sentence-transformers/all-MiniLM-L6-v2\"\n",
    ")\n",
    "doc_embedder.warm_up()\n",
    "\n",
    "docs_with_embeddings = doc_embedder.run(docs)\n",
    "n_docs_written = await document_store.write_documents_async(docs_with_embeddings[\"documents\"])\n",
    "print(f\"Indexed {n_docs_written} documents\")"
   ]
  },
  {
   "cell_type": "markdown",
   "metadata": {},
   "source": [
    "The next step is to build the RAG pipeline to generate answers for a user query.\n",
    "\n",
    "Initialize a text embedder to create an embedding for the user query and an `InMemoryEmbeddingRetriever` to use with the `InMemoryDocumentStore` you initialized earlier. As with the latter, the async-enabled embedding retriever class stems from the `haystack-experimental` package."
   ]
  },
  {
   "cell_type": "code",
   "execution_count": 18,
   "metadata": {},
   "outputs": [],
   "source": [
    "from haystack.components.embedders import SentenceTransformersTextEmbedder\n",
    "from haystack_experimental.components.retrievers.in_memory import InMemoryEmbeddingRetriever\n",
    "\n",
    "text_embedder = SentenceTransformersTextEmbedder(model=\"sentence-transformers/all-MiniLM-L6-v2\")\n",
    "retriever = InMemoryEmbeddingRetriever(document_store)\n"
   ]
  },
  {
   "cell_type": "markdown",
   "metadata": {},
   "source": [
    "Create a custom prompt to use with the `ChatPromptBuilder` and initialize a `OpenAIChatGenerator` to consume the output of the former."
   ]
  },
  {
   "cell_type": "code",
   "execution_count": 19,
   "metadata": {},
   "outputs": [],
   "source": [
    "from haystack_experimental.components.builders import ChatPromptBuilder\n",
    "from haystack_experimental.components.generators.chat import OpenAIChatGenerator\n",
    "from haystack_experimental.dataclasses import ChatMessage\n",
    "\n",
    "template = \"\"\"\n",
    "Given the following information, answer the question.\n",
    "\n",
    "Context:\n",
    "{% for document in documents %}\n",
    "    {{ document.content }}\n",
    "{% endfor %}\n",
    "\n",
    "Question: {{question}}\n",
    "Answer:\n",
    "\"\"\"\n",
    "\n",
    "prompt_builder = ChatPromptBuilder(template=[ChatMessage.from_user(template)])\n",
    "generator = OpenAIChatGenerator(model=\"gpt-4o-mini\")"
   ]
  },
  {
   "cell_type": "markdown",
   "metadata": {},
   "source": [
    "We finally get to the creation of the pipeline instance. Instead of using the `Pipeline` class, we use the `AsyncPipeline` class from the `haystack-experimental` package. \n",
    "\n",
    "The rest of the process, i.e., adding components and connecting them with each other remains the same as with the original `Pipeline` class."
   ]
  },
  {
   "cell_type": "code",
   "execution_count": 20,
   "metadata": {},
   "outputs": [
    {
     "data": {
      "text/plain": [
       "<haystack_experimental.core.pipeline.async_pipeline.AsyncPipeline object at 0x309fd96f0>\n",
       "🚅 Components\n",
       "  - text_embedder: SentenceTransformersTextEmbedder\n",
       "  - retriever: InMemoryEmbeddingRetriever\n",
       "  - prompt_builder: ChatPromptBuilder\n",
       "  - llm: OpenAIChatGenerator\n",
       "🛤️ Connections\n",
       "  - text_embedder.embedding -> retriever.query_embedding (List[float])\n",
       "  - retriever.documents -> prompt_builder.documents (List[Document])\n",
       "  - prompt_builder.prompt -> llm.messages (List[ChatMessage])"
      ]
     },
     "execution_count": 20,
     "metadata": {},
     "output_type": "execute_result"
    }
   ],
   "source": [
    "from haystack_experimental.core import AsyncPipeline\n",
    "\n",
    "async_rag_pipeline = AsyncPipeline()\n",
    "# Add components to your pipeline\n",
    "async_rag_pipeline.add_component(\"text_embedder\", text_embedder)\n",
    "async_rag_pipeline.add_component(\"retriever\", retriever)\n",
    "async_rag_pipeline.add_component(\"prompt_builder\", prompt_builder)\n",
    "async_rag_pipeline.add_component(\"llm\", generator)\n",
    "\n",
    "# Now, connect the components to each other\n",
    "async_rag_pipeline.connect(\"text_embedder.embedding\", \"retriever.query_embedding\")\n",
    "async_rag_pipeline.connect(\"retriever\", \"prompt_builder.documents\")\n",
    "async_rag_pipeline.connect(\"prompt_builder.prompt\", \"llm.messages\")"
   ]
  },
  {
   "cell_type": "markdown",
   "metadata": {},
   "source": [
    "Now, we create a coroutine that queries the pipeline with a question.\n",
    "\n",
    "The key differences between the `AsyncPipeline.run` and `Pipeline.run` methods have to do with their parameters and return values.\n",
    "\n",
    "Both `Pipeline.run` and `AsyncPipeline.run` share the `data` parameter that encapsulates the initial inputs for the pipeline's components.\n",
    "\n",
    "While `Pipeline.run` accepts an additional `include_outputs_from` parameter to return the outputs of intermediate, non-leaf components in the pipeline graph, `AsyncPipeline.run` does not. This is because the latter is implemented as an `async` generator that yields the output of **each component** as soon as it executes successfully. This has the following implications:\n",
    "\n",
    "- The output of `AsyncPipeline.run` must be consumed in an `async for` loop for the pipeline execution to make progress.\n",
    "- By providing the intermediate results as they are computed, it allows for a tighter feedback loop between the backend and the user. For example, the results of the retriever can be displayed to the user before the LLM's response is generated.\n",
    "\n",
    "Whenever a component needs to be executed, the logic of `AsyncPipeline.run` will determine if it supports async execution. \n",
    "- If the component has opted into async support, the pipeline will schedule its execution as a coroutine on the event loop and yield control back to the async scheduler until the component's outputs are returned. \n",
    "- If the component has not opted into async support, the pipeline will launch its execution in a separate thread and schedule it on the event loop.\n",
    "\n",
    "In both cases, given an `AsyncPipeline` only one of its components can be executing at any given time. However, this does not prevent multiple, different `AsyncPipeline` instances from executing concurrently.\n",
    "\n",
    "The execution of an `AsyncPipeline` is deemed to be complete once program flow exits the `async for` loop. At this point, the final results of the pipeline (the outputs of the leaf nodes in the pipeline graph) can be accessed with the loop variable."
   ]
  },
  {
   "cell_type": "code",
   "execution_count": 21,
   "metadata": {},
   "outputs": [],
   "source": [
    "from typing import Dict, Any\n",
    "\n",
    "\n",
    "async def query_pipeline(question: str) -> Dict[str, Dict[str, Any]]:\n",
    "    input = {\n",
    "        \"text_embedder\": {\"text\": question},\n",
    "        \"prompt_builder\": {\"question\": question},\n",
    "    }\n",
    "\n",
    "    result_idx = 0\n",
    "    # The AsyncPipeline.run() method is an async generator that yields the output of each component.\n",
    "    async for pipeline_output in async_rag_pipeline.run(input):\n",
    "        print(f\"Pipeline result '{result_idx}' = {pipeline_output}\")\n",
    "        result_idx += 1\n",
    "\n",
    "    # The last output of the pipeline is the final pipeline output.\n",
    "    return pipeline_output"
   ]
  },
  {
   "cell_type": "markdown",
   "metadata": {},
   "source": [
    "We can now execute the pipeline with some examples."
   ]
  },
  {
   "cell_type": "code",
   "execution_count": 25,
   "metadata": {},
   "outputs": [
    {
     "name": "stdout",
     "output_type": "stream",
     "text": [
      "Querying pipeline with question: 'Where is Gardens of Babylon?'\n"
     ]
    },
    {
     "data": {
      "application/vnd.jupyter.widget-view+json": {
       "model_id": "b2202975a4e0429eacbb49b6b7d7c6fd",
       "version_major": 2,
       "version_minor": 0
      },
      "text/plain": [
       "Batches:   0%|          | 0/1 [00:00<?, ?it/s]"
      ]
     },
     "metadata": {},
     "output_type": "display_data"
    },
    {
     "name": "stdout",
     "output_type": "stream",
     "text": [
      "Pipeline result '0' = {'text_embedder': {'embedding': [0.06369029730558395, 0.06295149028301239, 0.0017213606042787433, -0.028603052720427513, -0.015677347779273987, -0.0549798421561718, -0.011346829123795033, -0.06269989162683487, 0.029381055384874344, 0.015217332169413567, -0.03562494367361069, -0.018175311386585236, -0.06586392223834991, -0.025163307785987854, -0.050018154084682465, -0.036443471908569336, 0.021266596391797066, 0.026529664173722267, 0.006462699268013239, -0.051425736397504807, 0.013276788406074047, 0.01805647276341915, 0.09243571758270264, -0.021958105266094208, 0.06896711885929108, 0.016641005873680115, -0.03576898202300072, 0.0948345735669136, -0.019929755479097366, -0.015581484884023666, 0.01939530298113823, 0.067197784781456, -0.003636856097728014, 0.04966466873884201, -0.061924539506435394, 0.14623546600341797, 0.052749574184417725, -0.030615659430623055, 0.10668481886386871, 0.008385390974581242, -0.040644820779561996, -0.05201509967446327, 0.00043503608321771026, 0.010932921431958675, -0.07076545059680939, 0.04284390062093735, -0.02151256427168846, -0.03210242837667465, 0.11371380090713501, -0.07845648378133774, 0.018190788105130196, 0.004546065349131823, 0.011334617622196674, -0.03148975223302841, 0.04529664292931557, 0.0037876067217439413, -0.026095690205693245, -0.04036569967865944, 0.07842118293046951, 0.013633426278829575, 0.061418432742357254, -0.048934243619441986, -0.06763608008623123, 0.06613072007894516, -0.02494107559323311, -0.0905475988984108, 0.01696704886853695, 0.028594788163900375, 0.023754769936203957, -0.14853620529174805, 0.04219658672809601, 0.02317655459046364, 0.03309711068868637, -0.10534542798995972, -0.07625114172697067, 0.025255749002099037, -0.06972059607505798, -0.049204301089048386, -0.07664991915225983, -0.07652098685503006, 0.05697260797023773, 0.05838802456855774, 0.04594912752509117, 0.14187656342983246, 0.0015180151676759124, 0.03566979616880417, -0.025458378717303276, 0.0480855330824852, 0.08688346296548843, 0.02039944939315319, 0.05082622170448303, -0.010716893710196018, 0.0074949003756046295, 0.08087973296642303, -0.06957071274518967, 0.041046977043151855, 0.03187328577041626, -0.05198751017451286, -0.03500805050134659, 0.040441304445266724, 0.01395924761891365, 0.0010827059159055352, 0.07636115700006485, -0.01832062378525734, 0.005398925393819809, -0.006869747303426266, -0.057033490389585495, 0.009008555673062801, -0.02772843837738037, -0.009783418849110603, -0.05418294295668602, -0.0686919093132019, -0.014569374732673168, -0.0009212333243340254, -0.0315866582095623, -0.02489110454916954, 0.07500844448804855, -0.05753348395228386, -0.053204089403152466, -0.0030547732021659613, -0.05083500221371651, 0.0269522275775671, -0.05103382095694542, -0.0046789199113845825, -0.06827614456415176, 0.026523936539888382, -0.06967858225107193, -5.79241004415006e-33, 0.006885239854454994, -0.023341719061136246, -0.011014963500201702, 0.032566219568252563, -0.024196121841669083, -0.005927515681833029, -0.010506395250558853, 0.05140375718474388, -0.05630045011639595, -0.05741020292043686, 0.02136382646858692, -0.1297336369752884, -0.09694065898656845, -0.04092896357178688, 0.05725915729999542, 0.02450423501431942, 0.003458588384091854, -0.024841852486133575, -0.00765973050147295, -0.028772296383976936, -0.06943310052156448, -0.017181525006890297, -0.06547672301530838, 0.030458834022283554, 0.020423011854290962, -0.043779145926237106, 0.07145990431308746, 0.023922014981508255, 0.006763541605323553, 0.028514420613646507, 0.00835204403847456, -0.020550936460494995, -0.030692050233483315, 0.013764685951173306, 0.049779992550611496, -0.01338199619203806, -0.03407827019691467, 0.0007401973125524819, 0.035530127584934235, 0.02746475301682949, -0.0013907761313021183, 0.028427692130208015, -0.029131054878234863, 0.06954438984394073, 0.03946889564394951, 0.05890301242470741, 0.06514544785022736, -0.010641437955200672, 0.08401743322610855, 0.051538996398448944, -0.008394411765038967, 0.08605590462684631, -0.03207838535308838, -0.03464524447917938, 0.020968656986951828, 0.021071819588541985, -0.006914337165653706, 0.058700624853372574, 0.039332449436187744, 0.09787462651729584, 0.02275278978049755, 0.09231337904930115, -0.04047788679599762, 0.03803276643157005, 0.032656822353601456, 0.01454788539558649, -0.05730797350406647, 0.06135132908821106, -0.026607414707541466, 0.05376651510596275, 0.011172393336892128, -0.004173401743173599, 0.05026764050126076, 0.04627535864710808, 0.00979601126164198, 0.006903273984789848, -0.06671242415904999, -0.0612792894244194, -0.039857830852270126, 0.008608774282038212, 0.020228486508131027, -0.05409013852477074, -0.06583910435438156, 0.10266997665166855, -0.042488474398851395, -0.017597148194909096, 0.08820072561502457, 0.0014435239136219025, -0.056268349289894104, -0.11300859600305557, -0.02890915982425213, -0.04344053938984871, -0.005145607050508261, -0.11982499808073044, -0.07895346730947495, 2.6675271061309468e-33, -0.012886591255664825, -0.020825564861297607, -0.006342004518955946, -0.021366536617279053, -0.046965841203927994, 0.07516506314277649, -0.0459267757833004, 0.015429620631039143, -0.029857823625206947, 0.035722311586141586, -0.10382477194070816, 0.10163851082324982, 0.0636259913444519, 0.01669420674443245, 0.016772959381341934, -0.013790188357234001, 0.05176018178462982, 0.020297998562455177, -0.08441006392240524, 0.0353592187166214, -0.008393041789531708, 0.0415353961288929, 0.0029407194815576077, -0.03954918310046196, -0.047819580882787704, 0.020452184602618217, 0.017673451453447342, 0.00604424299672246, -0.0899188295006752, 0.040434252470731735, 0.07380104809999466, -0.07549821585416794, -0.08375059068202972, 0.05973629280924797, -0.01198294386267662, -0.018037069588899612, 0.06961733102798462, -0.08396003395318985, 0.0010090820724144578, 0.0056806886568665504, 0.022231783717870712, -0.023766959086060524, -0.041005827486515045, 0.12441670894622803, -0.026729697361588478, 0.06282505393028259, 0.008895027451217175, 0.1305065006017685, 0.04520107060670853, -0.006267635151743889, -0.08860315382480621, 0.08645416796207428, -0.008663883432745934, -0.0045940205454826355, 0.09128648042678833, -0.053349047899246216, -0.028518935665488243, 0.05284351482987404, 0.013180107809603214, -0.07589711993932724, -0.05767960101366043, 0.00024336346541531384, -0.03881675750017166, 0.011760997585952282, -0.014266050420701504, 0.05006133392453194, -0.01580163836479187, 0.0774073451757431, -0.004576054401695728, 0.019301224499940872, -0.007644279859960079, 0.014006898738443851, -0.015636801719665527, -0.07644981890916824, -0.06841254234313965, 0.09710948169231415, 0.11238537728786469, -0.06408648192882538, -0.027197537943720818, -0.04217671602964401, 0.04136006161570549, -0.008874565362930298, 0.00012287036224734038, -0.04923819750547409, 0.0415838398039341, -0.0008206681814044714, 0.02334050089120865, -0.04727732762694359, -0.044176116585731506, 0.012145987711846828, 0.016703201457858086, 0.053461261093616486, -0.03011207841336727, -0.00048464746214449406, 0.08434265851974487, -1.3009647581441186e-08, 0.06736897677183151, 0.05451361462473869, 0.05037442967295647, -0.09603288769721985, 0.004330810159444809, -0.06211692839860916, 0.09655745327472687, 0.11045453697443008, -0.0016436760779470205, 0.09454572200775146, -0.01810595951974392, 0.04774631932377815, 0.022437097504734993, 0.04356270283460617, 0.04318459331989288, -0.04617763310670853, 0.07042901962995529, -0.031020700931549072, -0.057887881994247437, 0.009630991145968437, -0.01591666229069233, -0.04942253232002258, -0.018887488171458244, -0.058049093931913376, -0.038942258805036545, -0.019384365528821945, 0.03185725584626198, -0.1425519734621048, 0.04889245703816414, -0.0032514133490622044, 0.07073093205690384, 0.016214357689023018, -0.02380230277776718, -0.0246962308883667, -0.04519464075565338, -0.02702464535832405, -0.0874720886349678, 0.0021179879549890757, -0.0275320615619421, -0.09419764578342438, 0.032000407576560974, -0.050746675580739975, 0.010316354222595692, 0.06571764498949051, -0.004691064357757568, 0.020867448300123215, 0.08446884155273438, 0.0032124770805239677, 0.008143322542309761, -0.0044046868570148945, -0.017844678834080696, 0.02925224043428898, 0.0651179850101471, -0.014125376008450985, 0.004338007420301437, -0.037261493504047394, -0.0725441426038742, 0.002586333779618144, -0.008238134905695915, 0.023302795365452766, -0.061080411076545715, -0.045734476298093796, -0.041112836450338364, -0.029734699055552483]}}\n",
      "Pipeline result '1' = {'retriever': {'documents': [Document(id=1d3b00c0c761487040b62edb06fdcd47b84a7ea8e35382c474f9107bcb7f2afe, content: 'The construction of the Hanging Gardens has also been attributed to the legendary queen Semiramis[4]...', meta: {'url': 'https://en.wikipedia.org/wiki/Hanging_Gardens_of_Babylon', '_split_id': 1}, score: 0.6933103946695331), Document(id=1ac6d4aedca0f952d87a1cfd4d4bde946d54f103a8f802419671d9ad2e26f3bc, content: '[21] However, the gardens were said to still exist at the time that later writers described them, an...', meta: {'url': 'https://en.wikipedia.org/wiki/Hanging_Gardens_of_Babylon', '_split_id': 5}, score: 0.6839754804655184), Document(id=d9d010c8de4b44dade963cb84f936a313a56f96e9aaed19f760cf8538ded0e4f, content: 'The Hanging Gardens of Babylon were one of the Seven Wonders of the Ancient World listed by Hellenic...', meta: {'url': 'https://en.wikipedia.org/wiki/Hanging_Gardens_of_Babylon', '_split_id': 0}, score: 0.6531970522220067), Document(id=228e349738d8c6c68233469ae86ab78031b08c2641fca5ca1741d9607d7d254d, content: 'These writers concern themselves with the size of the Hanging Gardens, their overall design and mean...', meta: {'url': 'https://en.wikipedia.org/wiki/Hanging_Gardens_of_Babylon', '_split_id': 2}, score: 0.591810805749112), Document(id=6b10fe81a7fbed8b3cccea3009351bf20bfb6c53f7b3993223f1f3b97b836992, content: '[24]\n",
      "\n",
      "Identification with Sennacherib's gardens at Nineveh\n",
      "See also: Nineveh § Sennacherib's Nineveh...', meta: {'url': 'https://en.wikipedia.org/wiki/Hanging_Gardens_of_Babylon', '_split_id': 6}, score: 0.5892575383617347), Document(id=785075351ac84affb97aca27041e4a412e2e7ac7b3a03c986b5ca6fdd386425c, content: '[36] There was a tradition of Assyrian royal garden building. King Ashurnasirpal II (883–859 BC) had...', meta: {'url': 'https://en.wikipedia.org/wiki/Hanging_Gardens_of_Babylon', '_split_id': 8}, score: 0.5697163861015603), Document(id=c35f53862a8132d1130bb7c0d349406a02f095c5c7024685e8528379b066d06c, content: 'He states that the garden was in the shape of a square, with each side approximately four plethra lo...', meta: {'url': 'https://en.wikipedia.org/wiki/Hanging_Gardens_of_Babylon', '_split_id': 3}, score: 0.5678228438294216), Document(id=48772903972a37c30dc1acf6ca2a712cfadbfff28d1a64d135e91a4f8b056c99, content: 'This meant he could build a garden that towered above the landscape with large trees on the top of t...', meta: {'url': 'https://en.wikipedia.org/wiki/Hanging_Gardens_of_Babylon', '_split_id': 10}, score: 0.5440582921570107), Document(id=2f4361500c404bd24138661ad346b314fd575925472e79b4d0b6f67781e1ca1c, content: 'The last of the classical sources thought to be independent of the others is A Handbook to the Seven...', meta: {'url': 'https://en.wikipedia.org/wiki/Hanging_Gardens_of_Babylon', '_split_id': 4}, score: 0.5316688379569133), Document(id=8898fdd9ba5e7049fcec94ae5e9f172337de969977ccbfb1d5e2b23baf964d15, content: 'Only Josephus names Nebuchadnezzar as the king who built the gardens; although Nebuchadnezzar left m...', meta: {'url': 'https://en.wikipedia.org/wiki/Hanging_Gardens_of_Babylon', '_split_id': 7}, score: 0.5253896148014423)]}}\n",
      "Pipeline result '2' = {'prompt_builder': {'prompt': [ChatMessage(_role=<ChatRole.USER: 'user'>, _content=[TextContent(text='\\nGiven the following information, answer the question.\\n\\nContext:\\n\\n    The construction of the Hanging Gardens has also been attributed to the legendary queen Semiramis[4] and they have been called the Hanging Gardens of Semiramis as an alternative name.[5]\\nThe Hanging Gardens are the only one of the Seven Wonders for which the location has not been definitively established.[6] There are no extant Babylonian texts that mention the gardens, and no definitive archaeological evidence has been found in Babylon.[7][8] Three theories have been suggested to account for this: first, that they were purely mythical, and the descriptions found in ancient Greek and Roman writings (including those of Strabo, Diodorus Siculus and Quintus Curtius Rufus) represented a romantic ideal of an eastern garden;[9] second, that they existed in Babylon, but were destroyed sometime around the first century AD;[10][4] and third, that the legend refers to a well-documented garden that the Assyrian King Sennacherib (704–681 BC) built in his capital city of Nineveh on the River Tigris, near the modern city of Mosul.[11][1]\\n\\nDescriptions in classical literature\\nThere are five principal writers whose descriptions of Babylon exist in some form today. \\n\\n    [21] However, the gardens were said to still exist at the time that later writers described them, and some of these accounts are regarded as deriving from people who had visited Babylon.[2] Herodotus, who describes Babylon in his Histories, does not mention the Hanging Gardens,[22] although it could be that the gardens were not yet well known to the Greeks at the time of his visit.[2]\\nTo date, no archaeological evidence has been found at Babylon for the Hanging Gardens.[6] It is possible that evidence exists beneath the Euphrates, which cannot be excavated safely at present. The river flowed east of its current position during the time of Nebuchadnezzar II, and little is known about the western portion of Babylon.[23] Rollinger has suggested that Berossus attributed the Gardens to Nebuchadnezzar for political reasons, and that he had adopted the legend from elsewhere.\\n\\n    The Hanging Gardens of Babylon were one of the Seven Wonders of the Ancient World listed by Hellenic culture. They were described as a remarkable feat of engineering with an ascending series of tiered gardens containing a wide variety of trees, shrubs, and vines, resembling a large green mountain constructed of mud bricks. It was said to have been built in the ancient city of Babylon, near present-day Hillah, Babil province, in Iraq. The Hanging Gardens\\' name is derived from the Greek word κρεμαστός (kremastós, lit.\\u2009\\'overhanging\\'), which has a broader meaning than the modern English word \"hanging\" and refers to trees being planted on a raised structure such as a terrace.[1][2][3]\\nAccording to one legend, the Hanging Gardens were built alongside a grand palace known as The Marvel of Mankind, by the Neo-Babylonian King Nebuchadnezzar II (who ruled between 605 and 562 BC), for his Median wife, Queen Amytis, because she missed the green hills and valleys of her homeland. This was attested to by the Babylonian priest Berossus, writing in about 290 BC, a description that was later quoted by Josephus. \\n\\n    These writers concern themselves with the size of the Hanging Gardens, their overall design and means of irrigation, and why they were built.\\nJosephus (c.\\u200937–100 AD) quotes a description of the gardens by Berossus, a Babylonian priest of Marduk,[6] whose writing c.\\u2009290 BC is the earliest known mention of the gardens.[5] Berossus described the reign of Nebuchadnezzar II and is the only source to credit that king with the construction of the Hanging Gardens.[12][13]\\n\\n.mw-parser-output .templatequote{overflow:hidden;margin:1em 0;padding:0 40px}.mw-parser-output .templatequote .templatequotecite{line-height:1.5em;text-align:left;padding-left:1.6em;margin-top:0}In this palace he erected very high walls, supported by stone pillars; and by planting what was called a pensile paradise, and replenishing it with all sorts of trees, he rendered the prospect an exact resemblance of a mountainous country. This he did to gratify his queen, because she had been brought up in Media, and was fond of a mountainous situation.[14]\\nHanging gardens of Semiramis, by H. Waldeck\\nDiodorus Siculus (active c.\\u200960–30 BC) seems to have consulted the 4th century BC texts of both Cleitarchus (a historian of Alexander the Great) and Ctesias of Cnidus. Diodorus ascribes the construction to a Syrian king. \\n\\n    [24]\\n\\nIdentification with Sennacherib\\'s gardens at Nineveh\\nSee also: Nineveh §\\xa0Sennacherib\\'s Nineveh\\nOxford scholar Stephanie Dalley has proposed that the Hanging Gardens of Babylon were actually the well-documented gardens constructed by the Assyrian king Sennacherib (reigned 704 – 681 BC) for his palace at Nineveh; Dalley posits that during the intervening centuries the two sites became confused, and the extensive gardens at Sennacherib\\'s palace were attributed to Nebuchadnezzar II\\'s Babylon.[1] Archaeological excavations have found traces of a vast system of aqueducts attributed to Sennacherib by an inscription on its remains, which Dalley proposes were part of an 80-kilometre (50\\xa0mi) series of canals, dams, and aqueducts used to carry water to Nineveh with water-raising screws used to raise it to the upper levels of the gardens.[25]\\nDalley bases her arguments on recent developments in the analysis of contemporary Akkadian inscriptions. Her main points are:[26]\\n\\nThe name Babylon, meaning \"Gate of the Gods\",[27] was the name given to several Mesopotamian cities.[28] Sennacherib renamed the city gates of Nineveh after gods,[29] which suggests that he wished his city to be considered \"a Babylon\".\\n\\n\\n    [36] There was a tradition of Assyrian royal garden building. King Ashurnasirpal II (883–859 BC) had created a canal, which cut through the mountains. Fruit tree orchards were planted. Also mentioned were pines, cypresses and junipers; almond trees, date trees, ebony, rosewood, olive, oak, tamarisk, walnut, terebinth, ash, fir, pomegranate, pear, quince, fig, and grapes. A sculptured wall panel of Assurbanipal shows the garden in its maturity. One original panel[37] and the drawing of another[38] are held by the British Museum, although neither is on public display. Several features mentioned by the classical authors are discernible on these contemporary images.\\n\\nAssyrian wall relief showing gardens in Nineveh\\nOf Sennacherib\\'s palace, he mentions the massive limestone blocks that reinforce the flood defences. Parts of the palace were excavated by Austin Henry Layard in the mid-19th century. His citadel plan shows contours which would be consistent with Sennacherib\\'s garden, but its position has not been confirmed. The area has been used as a military base in recent times, making it difficult to investigate further.\\nThe irrigation of such a garden demanded an upgraded water supply to the city of Nineveh. The canals stretched over 50 kilometres (31\\xa0mi) into the mountains. \\n\\n    He states that the garden was in the shape of a square, with each side approximately four plethra long. The garden was tiered, with the uppermost gallery being 50 cubits high. The walls, 22 feet thick, were made of brick. The bases of the tiered sections were sufficiently deep to provide root growth for the largest trees, and the gardens were irrigated from the nearby Euphrates.[15]\\nQuintus Curtius Rufus (fl. 1st century AD) probably drew on the same sources as Diodorus.[16] He states that the gardens were located on top of a citadel, which was 20 stadia in circumference. He attributes the building of the gardens to a Syrian king, again for the reason that his queen missed her homeland.\\nThe account of Strabo (c.\\u200964 BC\\xa0– 21 AD) possibly based his description on the lost account of Onesicritus from the 4th century BC.[17] He states that the gardens were watered by means of an Archimedes\\' screw leading to the gardens from the Euphrates river.\\n\\n\\n    This meant he could build a garden that towered above the landscape with large trees on the top of the terraces\\xa0– a stunning artistic effect that surpassed those of his predecessors.\\n\\nPlants\\nDate palms are a common tree species in Babylon.\\nThe gardens, as depicted in artworks, featured blossoming flowers, ripe fruit, burbling waterfalls and terraces exuberant with rich foliage. Based on Babylonian literature, tradition, and the environmental characteristics of the area, some of the following plants may have been found in the gardens:[41][unreliable source?]Olive (Olea europaea)\\nQuince (Cydonia oblonga)\\nCommon pear (Pyrus communis)\\nFig (Ficus carica)\\nAlmond (Prunus dulcis)\\nCommon grape vine (Vitis vinifera)\\nDate palm (Phoenix dactylifera)\\nAthel tamarisk (Tamarix aphylla)\\nMt. Atlas mastic tree (Pistacia atlantica)\\nImported plant varieties that may have been present in the gardens include the cedar, cypress, ebony, pomegranate, plum, rosewood, terebinth, juniper, oak, ash tree, fir, myrrh, walnut, and willow.[42] Some of these plants were suspended over the terraces and draped over its walls with arches underneath.\\n\\n    The last of the classical sources thought to be independent of the others is A Handbook to the Seven Wonders of the World by the paradoxographer Philo of Byzantium, writing in the 4th to 5th century AD.[18] The method of raising water by screw matches that described by Strabo.[19] Philo praises the engineering and ingenuity of building vast areas of deep soil, which had a tremendous mass, so far above the natural grade of the surrounding land, as well as the irrigation techniques.\\n\\nHistorical existence\\nThis copy of a bas relief from the North Palace of Ashurbanipal (669–631 BC) at Nineveh shows a luxurious garden watered by an aqueduct.\\nIt is unclear whether the Hanging Gardens were an actual construction or a poetic creation, owing to the lack of documentation in contemporaneous Babylonian sources. There is also no mention of Nebuchadnezzar\\'s wife Amyitis (or any other wives), although a political marriage to a Median or Persian would not have been unusual.[20] Many records exist of Nebuchadnezzar\\'s works, yet his long and complete inscriptions do not mention any garden.\\n\\n    Only Josephus names Nebuchadnezzar as the king who built the gardens; although Nebuchadnezzar left many inscriptions, none mentions any garden or engineering works.[30] Diodorus Siculus and Quintus Curtius Rufus specify a \"Syrian\" king. By contrast, Sennacherib left written descriptions,[31] and there is archaeological evidence of his water engineering.[32] His grandson Assurbanipal pictured the mature garden on a sculptured wall panel in his palace.[33]\\nSennacherib called his new palace and garden \"a wonder for all peoples\". He describes the making and operation of screws to raise water in his garden.[34]\\nThe descriptions of the classical authors fit closely to these contemporary records. Before the Battle of Gaugamela in 331 BC Alexander the Great camped for four days near the aqueduct at Jerwan.[35] The historians who travelled with him would have had ample time to investigate the enormous works around them, recording them in Greek. These first-hand accounts have not survived into modern times, but were quoted by later Greek writers.\\nKing Sennacherib\\'s garden was well-known not just for its beauty\\xa0– a year-round oasis of lush green in a dusty summer landscape\\xa0– but also for the marvelous feats of water engineering that maintained the garden.\\n\\n\\nQuestion: Where is Gardens of Babylon?\\nAnswer:')], _meta={})]}}\n",
      "Pipeline result '3' = {'llm': {'replies': [ChatMessage(_role=<ChatRole.ASSISTANT: 'assistant'>, _content=[TextContent(text='The Hanging Gardens of Babylon are believed to have been located in the ancient city of Babylon, near present-day Hillah in Babil province, Iraq. However, the exact location has not been definitively established, and there is ongoing debate regarding their historical existence and true location, with some theories suggesting they may have actually been the gardens constructed by the Assyrian King Sennacherib in Nineveh, near modern Mosul.')], _meta={'model': 'gpt-4o-mini-2024-07-18', 'index': 0, 'finish_reason': 'stop', 'usage': {'completion_tokens': 85, 'prompt_tokens': 2627, 'total_tokens': 2712, 'prompt_tokens_details': {'cached_tokens': 2432, 'audio_tokens': 0}, 'completion_tokens_details': {'reasoning_tokens': 0, 'audio_tokens': 0, 'accepted_prediction_tokens': 0, 'rejected_prediction_tokens': 0}}})]}}\n",
      "Pipeline result '4' = {'llm': {'replies': [ChatMessage(_role=<ChatRole.ASSISTANT: 'assistant'>, _content=[TextContent(text='The Hanging Gardens of Babylon are believed to have been located in the ancient city of Babylon, near present-day Hillah in Babil province, Iraq. However, the exact location has not been definitively established, and there is ongoing debate regarding their historical existence and true location, with some theories suggesting they may have actually been the gardens constructed by the Assyrian King Sennacherib in Nineveh, near modern Mosul.')], _meta={'model': 'gpt-4o-mini-2024-07-18', 'index': 0, 'finish_reason': 'stop', 'usage': {'completion_tokens': 85, 'prompt_tokens': 2627, 'total_tokens': 2712, 'prompt_tokens_details': {'cached_tokens': 2432, 'audio_tokens': 0}, 'completion_tokens_details': {'reasoning_tokens': 0, 'audio_tokens': 0, 'accepted_prediction_tokens': 0, 'rejected_prediction_tokens': 0}}})]}}\n",
      "\tOutput: ChatMessage(_role=<ChatRole.ASSISTANT: 'assistant'>, _content=[TextContent(text='The Hanging Gardens of Babylon are believed to have been located in the ancient city of Babylon, near present-day Hillah in Babil province, Iraq. However, the exact location has not been definitively established, and there is ongoing debate regarding their historical existence and true location, with some theories suggesting they may have actually been the gardens constructed by the Assyrian King Sennacherib in Nineveh, near modern Mosul.')], _meta={'model': 'gpt-4o-mini-2024-07-18', 'index': 0, 'finish_reason': 'stop', 'usage': {'completion_tokens': 85, 'prompt_tokens': 2627, 'total_tokens': 2712, 'prompt_tokens_details': {'cached_tokens': 2432, 'audio_tokens': 0}, 'completion_tokens_details': {'reasoning_tokens': 0, 'audio_tokens': 0, 'accepted_prediction_tokens': 0, 'rejected_prediction_tokens': 0}}})\n",
      "\n",
      "Querying pipeline with question: 'Why did people build Great Pyramid of Giza?'\n"
     ]
    },
    {
     "data": {
      "application/vnd.jupyter.widget-view+json": {
       "model_id": "e886d209c901423fba7327b7f0502dc2",
       "version_major": 2,
       "version_minor": 0
      },
      "text/plain": [
       "Batches:   0%|          | 0/1 [00:00<?, ?it/s]"
      ]
     },
     "metadata": {},
     "output_type": "display_data"
    },
    {
     "name": "stdout",
     "output_type": "stream",
     "text": [
      "Pipeline result '0' = {'text_embedder': {'embedding': [-0.05154181271791458, 0.10799203813076019, -0.005220759194344282, 0.05285796895623207, -0.11021175235509872, -0.10543037205934525, -0.011154026724398136, 0.03415223956108093, -0.07646125555038452, 0.04985128715634346, -0.011636525392532349, 0.024333029985427856, -0.000602007785346359, 0.025633348152041435, -0.031033428385853767, -0.03249064087867737, 0.041119806468486786, -0.025796059519052505, 0.0027208845131099224, -0.04670008644461632, 0.028048867359757423, -0.0655209943652153, 0.0016593878390267491, 0.05139290913939476, 0.03084787167608738, 0.009952484630048275, -0.08076997101306915, 0.053173065185546875, 0.09119059890508652, -0.034564681351184845, -0.009730293415486813, -0.00017469328304287046, 0.06056414172053337, 0.020226681604981422, -0.020492469891905785, 0.058629389852285385, 0.09268372505903244, -0.03691698983311653, 0.009729006327688694, -0.05896952375769615, 0.007414262276142836, 0.044550348073244095, 0.05215756967663765, 0.034654650837183, -0.0028673962224274874, -0.02124696597456932, 0.03211993724107742, -0.06126757338643074, 0.03626503795385361, -0.045371487736701965, 0.020775314420461655, -0.06831292808055878, -0.03197421878576279, -0.07094556093215942, 0.013526405207812786, -0.03460071235895157, -0.02605290710926056, -0.08002126961946487, 0.008303686045110226, 0.013757986016571522, 0.027599969878792763, 0.022379610687494278, -0.05994701758027077, -0.031240832060575485, 0.028709029778838158, -0.07841452956199646, -0.07009170204401016, 0.0005637263529933989, 0.028168609365820885, 0.0087466174736619, 0.08524391055107117, -0.06179477274417877, -0.03970242664217949, -0.08025752007961273, -0.050917088985443115, -0.09672921150922775, 0.050263043493032455, 0.008667024783790112, -0.12855473160743713, 0.011173243634402752, 0.03754226863384247, 0.009160981513559818, 0.0007094251341186464, 0.012846085242927074, 0.017873505130410194, 0.07949401438236237, 0.01268305815756321, 0.09313826262950897, -0.00047200944391079247, -0.060673654079437256, 0.10624534636735916, 0.0376068651676178, -0.06240445375442505, 0.10872350633144379, -0.002481399802491069, 0.002235089661553502, -0.06879416853189468, -0.022207345813512802, -0.01418315153568983, 0.023507606238126755, 0.06666240096092224, -0.019786322489380836, 0.11044283956289291, -0.008955608122050762, -0.03611091524362564, 0.024683725088834763, 0.0008761553908698261, 0.09576093405485153, -0.02156646177172661, -0.03192310035228729, -0.11098718643188477, -0.008637222461402416, 0.03468631953001022, 0.08965375274419785, -0.07565630972385406, 0.05890661105513573, -0.021022018045186996, 0.01114396657794714, -0.05857290327548981, -0.04065247252583504, 0.0646984800696373, -0.015291656367480755, -0.01072933990508318, 0.07919533550739288, -0.0664769858121872, -0.018104268237948418, -0.1267341673374176, -3.454823080130813e-33, 0.025907473638653755, -0.02211313135921955, 0.018759584054350853, 0.032420795410871506, 0.028853807598352432, 0.021446099504828453, -0.04818243905901909, -0.04563678056001663, -0.019467180594801903, 0.04361362382769585, -0.05825217440724373, -0.04801427200436592, -0.01976272463798523, 0.08339955657720566, 0.04736419767141342, -0.029579386115074158, -0.12156804651021957, 0.0033717933110892773, -0.05737826228141785, 0.04318790137767792, -0.013652127236127853, 0.013757932931184769, -0.015373616479337215, 0.017351793125271797, 0.05058298259973526, 0.07345850765705109, 0.048811085522174835, 0.011436417698860168, -0.07401502877473831, 0.011315577663481236, 0.003792102448642254, -0.04687359929084778, -0.053818002343177795, 0.017482278868556023, 0.02537454292178154, 0.03280190750956535, 0.01214105635881424, -0.06273290514945984, -0.05864877253770828, 0.04227856546640396, 0.09642922133207321, -0.01795317605137825, -0.041983895003795624, 0.05053780972957611, 0.06900779902935028, 0.06343798339366913, 0.022538932040333748, -0.0022335881367325783, -0.013330795802175999, 0.017636381089687347, 0.022648854181170464, 0.08619614690542221, -0.08235923200845718, 0.03495339676737785, 0.010821047239005566, 0.038159165531396866, -0.011919974349439144, 0.008959423750638962, 0.08033853024244308, 0.02578241564333439, 9.776836122910026e-06, -0.02003089338541031, -0.031878065317869186, 0.11972269415855408, -0.04331890493631363, 0.008440910838544369, 0.06808249652385712, 0.10242637991905212, -0.01729130558669567, 0.09451285004615784, -0.01288673561066389, -0.01951596699655056, -0.03652393817901611, 0.004372317343950272, -0.03860507905483246, -0.05217417702078819, -0.06289354711771011, 0.010718406178057194, -0.015107527375221252, 0.08496341109275818, 0.018029341474175453, 0.009309344924986362, -0.03869413584470749, -0.03785085305571556, -0.034255385398864746, 0.0638512670993805, 0.07246324419975281, 0.03563716262578964, 0.0014483962440863252, -0.014800640754401684, -0.07862545549869537, 0.010561961680650711, 0.04084695503115654, -0.07337222248315811, -0.060686998069286346, 1.0026914466281302e-33, -0.01924651674926281, -0.011248353868722916, -0.02371840365231037, -0.030714312568306923, -0.04441987723112106, -0.07992789894342422, -0.01974300481379032, -0.08949875086545944, -0.007222916930913925, 0.08329474180936813, -0.0020314722787588835, 0.008455470204353333, 0.10676407068967819, 0.017336593940854073, 0.07634308189153671, -0.009637804701924324, 0.029617197811603546, -0.017347294837236404, -0.0568351075053215, -0.032531414180994034, -0.018060846254229546, 0.09528829902410507, -0.1224081888794899, -0.0042404369451105595, -0.06074358522891998, 0.030493028461933136, -0.12689468264579773, -0.06838269531726837, 0.006333422847092152, 0.05975699797272682, -0.05087263882160187, -0.0009448840864934027, -0.10951307415962219, -0.010033555328845978, -0.014790177345275879, 0.08152056485414505, -0.03630362078547478, 0.041464515030384064, 0.015559996478259563, 0.007861682213842869, 0.007040300872176886, 0.10690702497959137, 0.026981327682733536, 0.09016302227973938, -0.0021202547941356897, 0.05520765483379364, 0.042951054871082306, 0.025490913540124893, -0.07355409860610962, -0.01696224883198738, 0.02665773220360279, 0.01946469582617283, 0.053553782403469086, -0.08684799075126648, 0.07008533924818039, -0.08461973071098328, -0.01121380552649498, 0.03156391531229019, -0.009265052154660225, -0.01967376098036766, 0.0259711891412735, -0.05125384405255318, -0.0028635894414037466, -0.05792103707790375, 0.009482461027801037, 0.016534971073269844, -0.009430124424397945, 0.04489339515566826, -0.02215822972357273, 0.07252518832683563, 0.02060147374868393, 0.0011545759625732899, -0.06373811513185501, 0.0639873817563057, -0.06076774373650551, 0.10654371231794357, -0.0827568918466568, 0.10202519595623016, 0.004707999527454376, -0.01570095308125019, -0.028215160593390465, -0.032725296914577484, 0.05136452987790108, -0.011596537195146084, 0.06739956140518188, -0.009972745552659035, -0.028607327491044998, 0.031864412128925323, 0.0704612135887146, 0.020090531557798386, -0.03295598924160004, -0.048439912497997284, 0.04152365028858185, 0.012708033435046673, -0.0048472145572304726, -1.4149099669680254e-08, 0.004637541715055704, 0.10580714046955109, -0.045739784836769104, -0.016383755952119827, -0.06564955413341522, -0.07500284165143967, 0.038310158997774124, 0.12158718705177307, 0.005410769488662481, -0.01341542974114418, -0.05887160077691078, 0.02476070635020733, -0.04105972871184349, 0.12774118781089783, -0.014018850401043892, 0.025209534913301468, -0.011942357756197453, -0.0018222315702587366, 0.009956169873476028, -0.03635391965508461, 0.022927263751626015, 0.00011491712211864069, -0.038510698825120926, -0.004386365879327059, -0.07980649173259735, 0.05229472741484642, -0.017055977135896683, 0.020221620798110962, 0.011398253031075, -0.0032762582413852215, 0.0782560408115387, -0.024440284818410873, -0.05574804171919823, -0.05816411226987839, -0.005393801257014275, 0.04616621881723404, -0.051676325500011444, -0.031999073922634125, 0.037584755569696426, -0.15984144806861877, 0.027523033320903778, -0.02122020162642002, 0.05657767131924629, 0.004910446237772703, 0.029746273532509804, 0.04336528480052948, -0.0421983040869236, -0.0448419488966465, -0.03911476582288742, -0.011484806425869465, 0.022906817495822906, 0.018533632159233093, 0.007803923450410366, 0.034575991332530975, 0.05727401375770569, -0.05127735063433647, 0.010284366086125374, -0.0019819089211523533, 0.03591056168079376, -0.08742357790470123, 0.029213206842541695, 0.007662307005375624, -0.022260110825300217, -0.0186784490942955]}}\n",
      "Pipeline result '1' = {'retriever': {'documents': [Document(id=e4e1da0082045e48de58dfdf6dbd24ba25ff6090120b15f2b4d30747f543105c, content: '[91]\n",
      "A construction management study conducted in 1999, in association with Mark Lehner and other Eg...', meta: {'url': 'https://en.wikipedia.org/wiki/Great_Pyramid_of_Giza', '_split_id': 25}, score: 0.72109422477394), Document(id=76faac9079190122b6af0e7a46f8ad79d04f8243aee0fe9fea8c999bc2dfea19, content: 'The Great Pyramid of Giza[a] is the largest Egyptian pyramid and the tomb of Fourth Dynasty pharaoh ...', meta: {'url': 'https://en.wikipedia.org/wiki/Great_Pyramid_of_Giza', '_split_id': 0}, score: 0.7121756602480136), Document(id=b7d6b791a014c32ad7358c36722a1807a2291804682c9b11bf0b772cc076b4c5, content: 'Accordingly, his explanations present themselves as a mixture of comprehensible descriptions, person...', meta: {'url': 'https://en.wikipedia.org/wiki/Great_Pyramid_of_Giza', '_split_id': 12}, score: 0.6414372253624114), Document(id=62b740443778bd783e082734cf3b57684f1ff204afcb42f473f32987ee79f9e0, content: '[79] The bedrock reaches a height of almost 6 metres (20 ft) above the pyramid base at the location ...', meta: {'url': 'https://en.wikipedia.org/wiki/Great_Pyramid_of_Giza', '_split_id': 22}, score: 0.6255151592808202), Document(id=f100f5f3af3ab7b4b146fb6ae877732ba959d4f1469a80869b1018fb6322847b, content: '[5]\n",
      "The dimensions of the pyramid were 280 royal cubits (146.7 m; 481.4 ft) high, a base length of 4...', meta: {'url': 'https://en.wikipedia.org/wiki/Great_Pyramid_of_Giza', '_split_id': 1}, score: 0.6200391564220616), Document(id=e42388e23323dad64d9cd5dd5e93fa1391d93be3dc161236d789e2eb7de99546, content: 'These were entrusted to a boat builder, Haj Ahmed Yusuf, who worked out how the pieces fit together....', meta: {'url': 'https://en.wikipedia.org/wiki/Great_Pyramid_of_Giza', '_split_id': 60}, score: 0.6027356737323959), Document(id=b5e479793c777112eeadb8cba6cfd785e5b968ea31a17e5c3e266b9b8d329f35, content: '[85] [86] The white limestone used for the casing was transported by boat across the Nile from the T...', meta: {'url': 'https://en.wikipedia.org/wiki/Great_Pyramid_of_Giza', '_split_id': 23}, score: 0.5964455463112259), Document(id=055b1454beddf2064ddfd8079da93ddffd5f9a0dfa25fb5321835b914312c32b, content: 'In addition to measuring the structure, alongside the other pyramids at Giza, al-Baghdadi also write...', meta: {'url': 'https://en.wikipedia.org/wiki/Great_Pyramid_of_Giza', '_split_id': 21}, score: 0.5852579425384639), Document(id=c03ef2b285274336c11d85b731e68e034122d112c46c4cc6aefd2a0d0dde6002, content: 'Diodorus's work was inspired by historians of the past, but he also distanced himself from Herodotus...', meta: {'url': 'https://en.wikipedia.org/wiki/Great_Pyramid_of_Giza', '_split_id': 14}, score: 0.5706486608744372), Document(id=46a64cbb26eff37eba558ef9e8d35a4254bb7978a1cfab6abd66d04c157af2f6, content: 'He writes that \"such a working diagram would also serve to generate the architecture of the pyramid ...', meta: {'url': 'https://en.wikipedia.org/wiki/Great_Pyramid_of_Giza', '_split_id': 29}, score: 0.5698463144279926)]}}\n",
      "Pipeline result '2' = {'prompt_builder': {'prompt': [ChatMessage(_role=<ChatRole.USER: 'user'>, _content=[TextContent(text='\\nGiven the following information, answer the question.\\n\\nContext:\\n\\n    [91]\\nA construction management study conducted in 1999, in association with Mark Lehner and other Egyptologists, had estimated that the total project required an average workforce of about 13,200 people and a peak workforce of roughly 40,000.[92]\\n\\nSurveys and design\\nComparison of approximate profiles of the Great Pyramid of Giza with some notable pyramidal or near-pyramidal buildings. Dotted lines indicate original heights, where data is available. In its\\xa0SVG\\xa0file, hover over a pyramid to highlight and click for its article.\\nThe first precise measurements of the pyramid were made by Egyptologist Flinders Petrie in 1880–1882, published as The Pyramids and Temples of Gizeh.[93] Many of the casing-stones and inner chamber blocks of the Great Pyramid fit together with high precision, with joints, on average, only 0.5 millimetres (0.020\\xa0in) wide.[94] On the contrary, core blocks were only roughly shaped, with rubble inserted between larger gaps. Mortar was used to bind the outer layers together and fill gaps and joints.[6]\\nThe block height and weight tends to get progressively smaller towards the top. \\n\\n    The Great Pyramid of Giza[a] is the largest Egyptian pyramid and the tomb of Fourth Dynasty pharaoh Khufu. Built in the early 26th century BC during a period of around 27 years,[3] the pyramid is the oldest of the Seven Wonders of the Ancient World, and the only one to remain largely intact. It is the most famous monument of the Giza pyramid complex, in the Pyramid Fields of the Memphis and its Necropolis UNESCO World Heritage Site,[4] in Giza, Egypt. It is at the most Northern end of the line of the 3 Pyramids of Giza.\\nInitially standing at 146.6 metres (481 feet), the Great Pyramid was the tallest man-made structure in the world for more than 3,800 years. Over time, most of the smooth white limestone casing was removed, which lowered the pyramid\\'s height to the present 138.5 metres (454.4\\xa0ft). What is seen today is the underlying core structure. The base was measured to be about 230.3 metres (755.6\\xa0ft) square, giving a volume of roughly 2.6\\xa0million cubic metres (92\\xa0million cubic feet), which includes an internal hillock.\\n\\n    Accordingly, his explanations present themselves as a mixture of comprehensible descriptions, personal descriptions, erroneous reports, and fantastical legends; as a result, many of the speculative errors and confusions about the monument can be traced back to Herodotus and his work.[44][45]\\nHerodotus writes that the Great Pyramid was built by Khufu (Hellenized as Cheops) who, he erroneously relays, ruled after the Ramesside Period (the 19th dynasty and the 20th dynasty).[46] Khufu was a tyrannical king, Herodotus claims, which may explain the Greek\\'s view that such buildings can only come about through cruel exploitation of the people.[44] Herodotus states that gangs of 100,000 labourers worked on the building in three-month shifts, taking 20 years to build. In the first ten years a wide causeway was erected, which, according to Herodotus, was almost as impressive as the construction of the pyramids themselves. It measured nearly 1 kilometre (0.62\\xa0mi) long and 20 yards (18.3\\xa0m) wide, and elevated to a height of 16 yards (14.6\\xa0m), consisting of stone polished and carved with figures.[47]\\nUnderground chambers were made on the hill whereon the pyramids stand. \\n\\n    [79] The bedrock reaches a height of almost 6 metres (20\\xa0ft) above the pyramid base at the location of the Grotto.[80]\\nAlong the sides of the base platform a series of holes are cut in the bedrock. Lehner hypothesizes that they held wooden posts used for alignment.[81] Edwards, among others, suggested the usage of water for evening the base, although it is unclear how practical and workable such a system would be.[78]\\n\\nMaterials\\nThe Great Pyramid consists of an estimated 2.3\\xa0million blocks. Approximately 5.5\\xa0million tonnes of limestone, 8,000\\xa0tonnes of granite, and 500,000\\xa0tonnes of mortar were used in the construction.[82]\\nMost of the blocks were quarried at Giza just south of the pyramid, an area now known as the Central Field.[83] They are a particular type of nummulitic limestone formed of the fossils of thousands of prehistoric shell creatures, whose small disc form can still be seen in some of the pyramid\\'s blocks upon close inspection.[84] Other fossils have been found in the blocks and other structures on the site, including fossilized shark teeth.\\n\\n    [5]\\nThe dimensions of the pyramid were 280 royal cubits (146.7\\xa0m; 481.4\\xa0ft) high, a base length of 440\\xa0cubits (230.6\\xa0m; 756.4\\xa0ft), with a seked of 5+1/2 palms (a slope of 51°50\\'40\").\\nThe Great Pyramid was built by quarrying an estimated 2.3 million large blocks weighing 6 million tonnes in total. The majority of stones are not uniform in size or shape and are only roughly dressed.[6] The outside layers were bound together by mortar. Primarily local limestone from the Giza Plateau was used. Other blocks were imported by boat on the Nile: White limestone from Tura for the casing, and granite blocks from Aswan, weighing up to 80 tonnes, for the King\\'s Chamber structure.[7]\\nThere are three known chambers inside the Great Pyramid. The lowest was cut into the bedrock, upon which the pyramid was built, but remained unfinished. The so-called[8] Queen\\'s Chamber and King\\'s Chamber, that contains a granite sarcophagus, are above ground, within the pyramid structure. Khufu\\'s vizier, Hemiunu (also called Hemon), is believed by some to be the architect of the Great Pyramid.[9] Many varying scientific and alternative hypotheses attempt to explain the exact construction techniques.\\n\\n\\n    These were entrusted to a boat builder, Haj Ahmed Yusuf, who worked out how the pieces fit together. The entire process, including conservation and straightening of the warped wood, took fourteen years. The result is a cedar-wood boat 43.6 metres (143\\xa0ft) long, its timbers held together by ropes, which was originally housed in the Giza Solar boat museum, a special boat-shaped, air-conditioned museum beside the pyramid. The boat is now in the Grand Egyptian Museum.[193][194]\\nDuring construction of this museum in the 1980s, the second sealed boat pit was discovered. It was left unopened until 2011 when excavation began on the boat.[195]\\n\\nPyramid town\\nA notable construction flanking the Giza pyramid complex is a cyclopean stone wall, the Wall of the Crow.[196] Mark Lehner discovered a worker\\'s town outside of the wall, otherwise known as \"The Lost City\", dated by pottery styles, seal impressions and stratigraphy to have been constructed and occupied sometime during the reigns of Khafre (2520–2494 BC) and Menkaure (2490–2472 BC).\\n\\n    [85] [86] The white limestone used for the casing was transported by boat across the Nile from the Tura quarries of the Eastern Desert plateau, about 10\\xa0km (6.2\\xa0mi) to its south east of the Giza plateau. In 2013, rolls of papyrus called the Diary of Merer were discovered, written by a supervisor of the deliveries of limestone and other construction materials from Tura to Giza in the 27th year of Khufu\\'s reign.[87]\\nThe granite stones in the pyramid were transported from Aswan, more than 900\\xa0km (560\\xa0mi) south.[7] The largest, weighing 25 to 80 tonnes, form the ceilings of the \"King\\'s chamber\" and the \"relieving chambers\" above it. Ancient Egyptians cut stone into rough blocks by hammering grooves into natural stone faces, inserting wooden wedges, then soaking these with water. As the water was absorbed, the wedges expanded, breaking off workable chunks. Once the blocks were cut, they were carried by boat on the Nile River to the pyramid.[88]\\n\\nWorkforce\\nThe Greeks believed that slave labour was used, but modern discoveries made at nearby workers\\' camps associated with construction at Giza suggest that it was built by thousands of conscript laborers.\\n\\n    In addition to measuring the structure, alongside the other pyramids at Giza, al-Baghdadi also writes that the structures were surely tombs, although he thought the Great Pyramid was used for the burial of Agathodaimon or Hermes. Al-Baghdadi ponders whether the pyramid pre-dated the Great flood as described in Genesis, and even briefly entertained the idea that it was a pre-Adamic construction.[74][75] A few centuries later, the Islamic historian Al-Maqrizi (1364–1442) compiled lore about the Great Pyramid in his Al-Khitat. In addition to reasserting that Al-Ma\\'mun breached the structure in 820 AD, Al-Maqrizi\\'s work also discusses the sarcophagus in the coffin chambers, explicitly noting that the pyramid was a grave.[76]\\nBy the Late Middle Ages, the Great Pyramid had gained a reputation as a haunted structure. Others feared entering, because it was home to animals like bats.[77]\\n\\nConstruction\\nPreparation of the site\\nA hillock forms the base on which the pyramid stands. It was cut back into steps and only a strip around the perimeter was leveled,[78] which has been measured to be horizontal and flat to within 21 millimetres (0.8\\xa0in).\\n\\n    Diodorus\\'s work was inspired by historians of the past, but he also distanced himself from Herodotus, who Diodorus claims tells marvelous tales and myths.[53] Diodorus presumably drew his knowledge from the lost work of Hecataeus of Abdera,[54] and like Herodotus, he also places the builder of the pyramid, \"Chemmis,\"[55] after Ramses III.[46] According to his report, neither Chemmis (Khufu) nor Cephren (Khafre) were buried in their pyramids, but rather in secret places, for fear that the people ostensibly forced to build the structures would seek out the bodies for revenge.[56] With this assertion, Diodorus strengthened the connection between pyramid building and slavery.[57]\\nAccording to Diodorus, the cladding of the pyramid was still in excellent condition at the time, whereas the uppermost part of the pyramid was formed by a platform 6\\xa0cubits (3.1\\xa0m; 10.3\\xa0ft) high. About the construction of the pyramid he notes that it was built with the help of ramps since no lifting tools had yet been invented. Nothing was left of the ramps, as they were removed after the pyramids were completed. \\n\\n    He writes that \"such a working diagram would also serve to generate the architecture of the pyramid with precision unmatched by any other means\".[107]\\nThe basalt blocks of the pyramid temple show \"clear evidence\" of having been cut with some kind of saw with an estimated cutting blade of 15 feet (4.6\\xa0m) in length. Romer suggests that this \"super saw\" may have had copper teeth and weighed up to 140 kilograms (310\\xa0lb). He theorizes that such a saw could have been attached to a wooden trestle support and possibly used in conjunction with vegetable oil, cutting sand, emery or pounded quartz to cut the blocks, which would have required the labour of at least a dozen men to operate it.[108]\\n\\nExterior\\nCasing\\nRemaining casing stones on the north side of the Great Pyramid\\nA casing stone in the British Museum[109]At completion, the Great Pyramid was cased entirely in white limestone. Precisely worked blocks were placed in horizontal layers and carefully fitted together with mortar, their outward faces cut at a slope and smoothed to a high degree. Together they created four uniform surfaces, angled at 51°50\\'40\" (a Seked of 5+1/2 palms).\\n\\n\\nQuestion: Why did people build Great Pyramid of Giza?\\nAnswer:')], _meta={})]}}\n",
      "Pipeline result '3' = {'llm': {'replies': [ChatMessage(_role=<ChatRole.ASSISTANT: 'assistant'>, _content=[TextContent(text=\"The Great Pyramid of Giza was built as a tomb for Pharaoh Khufu, who was a ruler of the Fourth Dynasty of ancient Egypt. It served as a monumental burial site intended to honor the pharaoh and ensure his safe passage into the afterlife. The pyramid also reflected Khufu's power and status, showcasing the sophistication and capabilities of ancient Egyptian civilization in terms of architecture, engineering, and organization of labor. Additionally, it was part of a larger complex that included temples and other structures, reinforcing the religious and cultural significance of the pharaoh within ancient Egyptian society.\")], _meta={'model': 'gpt-4o-mini-2024-07-18', 'index': 0, 'finish_reason': 'stop', 'usage': {'completion_tokens': 114, 'prompt_tokens': 2639, 'total_tokens': 2753, 'prompt_tokens_details': {'cached_tokens': 2432, 'audio_tokens': 0}, 'completion_tokens_details': {'reasoning_tokens': 0, 'audio_tokens': 0, 'accepted_prediction_tokens': 0, 'rejected_prediction_tokens': 0}}})]}}\n",
      "Pipeline result '4' = {'llm': {'replies': [ChatMessage(_role=<ChatRole.ASSISTANT: 'assistant'>, _content=[TextContent(text=\"The Great Pyramid of Giza was built as a tomb for Pharaoh Khufu, who was a ruler of the Fourth Dynasty of ancient Egypt. It served as a monumental burial site intended to honor the pharaoh and ensure his safe passage into the afterlife. The pyramid also reflected Khufu's power and status, showcasing the sophistication and capabilities of ancient Egyptian civilization in terms of architecture, engineering, and organization of labor. Additionally, it was part of a larger complex that included temples and other structures, reinforcing the religious and cultural significance of the pharaoh within ancient Egyptian society.\")], _meta={'model': 'gpt-4o-mini-2024-07-18', 'index': 0, 'finish_reason': 'stop', 'usage': {'completion_tokens': 114, 'prompt_tokens': 2639, 'total_tokens': 2753, 'prompt_tokens_details': {'cached_tokens': 2432, 'audio_tokens': 0}, 'completion_tokens_details': {'reasoning_tokens': 0, 'audio_tokens': 0, 'accepted_prediction_tokens': 0, 'rejected_prediction_tokens': 0}}})]}}\n",
      "\tOutput: ChatMessage(_role=<ChatRole.ASSISTANT: 'assistant'>, _content=[TextContent(text=\"The Great Pyramid of Giza was built as a tomb for Pharaoh Khufu, who was a ruler of the Fourth Dynasty of ancient Egypt. It served as a monumental burial site intended to honor the pharaoh and ensure his safe passage into the afterlife. The pyramid also reflected Khufu's power and status, showcasing the sophistication and capabilities of ancient Egyptian civilization in terms of architecture, engineering, and organization of labor. Additionally, it was part of a larger complex that included temples and other structures, reinforcing the religious and cultural significance of the pharaoh within ancient Egyptian society.\")], _meta={'model': 'gpt-4o-mini-2024-07-18', 'index': 0, 'finish_reason': 'stop', 'usage': {'completion_tokens': 114, 'prompt_tokens': 2639, 'total_tokens': 2753, 'prompt_tokens_details': {'cached_tokens': 2432, 'audio_tokens': 0}, 'completion_tokens_details': {'reasoning_tokens': 0, 'audio_tokens': 0, 'accepted_prediction_tokens': 0, 'rejected_prediction_tokens': 0}}})\n",
      "\n",
      "Querying pipeline with question: 'What does Rhodes Statue look like?'\n"
     ]
    },
    {
     "data": {
      "application/vnd.jupyter.widget-view+json": {
       "model_id": "e657cbc9cfcd4cd49a31789c76ba507d",
       "version_major": 2,
       "version_minor": 0
      },
      "text/plain": [
       "Batches:   0%|          | 0/1 [00:00<?, ?it/s]"
      ]
     },
     "metadata": {},
     "output_type": "display_data"
    },
    {
     "name": "stdout",
     "output_type": "stream",
     "text": [
      "Pipeline result '0' = {'text_embedder': {'embedding': [0.027440734207630157, 0.08271685987710953, -0.022660544142127037, 0.030886085703969002, 0.0179667416960001, -0.04623635113239288, 0.019113484770059586, -0.01197906769812107, -0.02874906174838543, -0.0068742637522518635, -0.012549941428005695, -0.03317371383309364, -0.03443440422415733, 0.0276029109954834, -0.030476612970232964, -0.01894759014248848, 0.03822256997227669, 0.032236743718385696, -0.0204947367310524, 0.047938134521245956, 0.061417900025844574, -0.044717464596033096, -0.001174663077108562, 0.07369744032621384, -0.0001379886525683105, 0.061608169227838516, -0.051456600427627563, 0.019989097490906715, 0.030330441892147064, -0.08683962374925613, -0.04924558475613594, -0.07623912394046783, 0.0013470642734318972, -0.01568865403532982, 0.052812617272138596, 0.041563086211681366, 0.10684378445148468, 0.0763394832611084, 0.006814755033701658, -0.03774801641702652, -0.07733006775379181, -0.057121891528367996, 0.055234529078006744, 0.0473562516272068, -0.020369451493024826, 0.04523167386651039, -0.010338620282709599, -0.043319687247276306, 0.07191454619169235, -0.04314849153161049, -0.012630837969481945, 0.0031019451562315226, -0.005225821398198605, -0.09699567407369614, -0.012250497005879879, 0.05284944176673889, -0.02029971033334732, -0.056545525789260864, 0.07330907136201859, -0.05950987711548805, 0.03783485293388367, 0.030587442219257355, -0.0065614948980510235, 0.09479238092899323, -0.08060607314109802, 0.03254854679107666, -0.06303194165229797, -0.15957525372505188, 0.072579026222229, -0.07811249047517776, 0.077691450715065, -0.008356238715350628, -0.030413823202252388, -0.1474323719739914, -0.05007871240377426, 0.00307467021048069, 0.10684836655855179, 0.002294132485985756, -0.03584902361035347, 0.0219050794839859, -0.027388378977775574, 0.014089936390519142, 0.05665971338748932, 0.01510643307119608, 0.009925995953381062, 0.014479242265224457, -0.05241090804338455, -0.04342176020145416, -0.014500102028250694, -0.04749436676502228, -0.003782797371968627, 0.004462799988687038, -0.08850312232971191, -0.04485646262764931, -0.03476849943399429, 0.06463149935007095, -0.03405847027897835, 0.04693017154932022, 0.0016355188563466072, 0.11999374628067017, 0.04222264140844345, -0.010785908438265324, 0.08128111809492111, 0.02090052142739296, 0.00578312249854207, 0.018028797581791878, 0.009148207493126392, 0.07109744846820831, 0.008164257742464542, 0.022150080651044846, 0.04364638403058052, 0.004181245341897011, -0.012785136699676514, 0.07754538953304291, -0.008470503613352776, 0.0052475458942353725, -0.048469144850969315, -0.006295387167483568, -0.04512599855661392, -0.02209516614675522, 0.0514882393181324, 0.0038684627506881952, -0.0033787814900279045, 0.0011875652708113194, -0.0772089809179306, -0.010575996711850166, -0.042673226445913315, -4.1450987095305995e-33, 0.01293287705630064, 0.006551230791956186, 0.015600585378706455, -0.08740758895874023, 0.02364346943795681, 0.013461102731525898, 0.07646001130342484, 0.03668426349759102, 0.009939581155776978, 0.030212795361876488, -0.006180478259921074, -0.06857086718082428, 0.007612859830260277, 0.0016891338163986802, -0.01320049911737442, 0.0376720167696476, -0.011359864845871925, 0.026923635974526405, -0.048585664480924606, 0.005170746240764856, -0.007692920509725809, 0.05389606952667236, -0.030315134674310684, -0.006680233404040337, -0.017639460042119026, 0.08249618858098984, -0.0038538773078471422, 0.02113400213420391, -0.006928381975740194, 0.044770438224077225, 0.018907256424427032, 0.02653244510293007, 0.040491435676813126, 0.031278595328330994, 0.031124085187911987, -0.00982529018074274, -0.03927352651953697, -0.04461612179875374, 0.015159831382334232, -0.008150652050971985, 0.06192753463983536, 0.0208412054926157, -0.046517252922058105, 0.10041029751300812, -0.0587380975484848, 0.02631322667002678, 0.05528764799237251, 0.002515978179872036, 0.04955919459462166, -0.03735746443271637, 0.014041204936802387, 0.037009097635746, -0.09450298547744751, -0.016749626025557518, 0.04164867475628853, 0.017558503895998, -0.017158012837171555, -0.028227437287569046, 0.005961232353001833, -0.03478354588150978, 0.039235398173332214, 0.011834939010441303, -0.0240262970328331, 0.04149242118000984, 0.001964026829227805, 0.0018023578450083733, -0.10765010863542557, -0.006681469269096851, -0.008457842282950878, -0.026968158781528473, -0.024137698113918304, -0.009255665354430676, -0.02913498878479004, -0.03112495318055153, -0.062083788216114044, 0.01245182380080223, 0.014757722616195679, -0.10374996811151505, -0.01645704358816147, 0.05496814846992493, -0.13466106355190277, 0.014168513007462025, 0.015078365802764893, -0.025674590840935707, -0.02349659986793995, -0.032486122101545334, 0.030517565086483955, -0.04037760570645332, 0.03205401822924614, -0.09230738878250122, -0.04192618280649185, -0.08950026333332062, -0.04348483681678772, -0.059095341712236404, -0.10468538850545883, 2.176568298856587e-33, -0.019867131486535072, -0.024046188220381737, 0.053015321493148804, 0.048012420535087585, 0.02707080729305744, -0.06611334532499313, -0.048369839787483215, 0.11749769002199173, -0.03747833892703056, -0.002465752884745598, -0.007717412896454334, -0.045523304492235184, -0.008657566271722317, -0.04530144855380058, 0.0794389620423317, 0.0013502296060323715, 0.1743021160364151, -0.012164886109530926, -0.04707535356283188, 0.06782187521457672, 0.003567351261153817, 0.0550505556166172, -0.033578742295503616, -0.07571320235729218, -0.05876364931464195, 0.065979965031147, -0.022074073553085327, -0.14075562357902527, -0.04264283925294876, -0.010296624153852463, -0.07338590174913406, 0.005356245208531618, -0.011701087467372417, 0.030480772256851196, 0.00044823315693065524, 0.0474339984357357, 0.006102745421230793, -0.08118166774511337, 0.026815280318260193, 0.015941819176077843, 0.05145847052335739, -0.05065493285655975, 0.007334804628044367, 0.16954927146434784, 0.01839396357536316, -0.036131519824266434, -0.01761712320148945, 0.12691470980644226, 0.008702279068529606, -0.03879734128713608, -0.10301883518695831, 0.006494631990790367, 0.05830072611570358, 0.0012758357916027308, -0.008292618207633495, -0.06268355250358582, -0.05493853986263275, 0.06236040219664574, 0.013409101404249668, 0.05364038050174713, 0.03710092976689339, -0.02365250140428543, -0.09804987907409668, 0.026867719367146492, -0.0012701570522040129, 0.04862486571073532, -0.05547962710261345, -0.011818114668130875, -0.11963553726673126, 0.1547117680311203, -0.031790707260370255, -0.05994970351457596, -0.002037053694948554, 0.0769161656498909, 0.0503697469830513, -0.04471903666853905, 0.0386064387857914, -0.0018383723217993975, 0.0837426483631134, 0.037272755056619644, -0.06328006088733673, -0.026692098006606102, 0.021786142140626907, 0.03015153668820858, 0.09729444235563278, 0.009447084739804268, -0.04296927899122238, -0.005389035679399967, -0.0036743199452757835, 0.028847752138972282, -0.056348782032728195, 0.05307488515973091, -0.014971423894166946, 0.0026802318170666695, 0.11168764531612396, -1.4019999383663162e-08, 0.0733199417591095, 0.05300850793719292, 0.011638805270195007, -0.08803589642047882, -0.05939027667045593, -0.014099081978201866, 0.05874277651309967, 0.005217973608523607, -0.055343326181173325, -0.008069085888564587, -0.0697321891784668, -0.01266955304890871, -0.05630630999803543, -0.054896969348192215, -0.04309995844960213, 0.05177263543009758, -0.013450611382722855, -0.0037965220399200916, -0.004552039317786694, -0.03158294036984444, 0.031882088631391525, -0.08074476569890976, 0.07819761335849762, -0.06401658803224564, -0.0563187375664711, 0.04454218968749046, 0.014662750996649265, 0.02797418087720871, -0.06167983263731003, 0.025146638974547386, 0.03797169029712677, 0.04934268444776535, -0.016132447868585587, -0.05507717654109001, 0.07414042949676514, 0.031815674155950546, -0.03781717270612717, 0.007992805913090706, -0.03687920421361923, -0.11453405767679214, 0.013019348494708538, 0.062093336135149, 4.16510047216434e-05, 0.06437133997678757, 0.12047377973794937, 0.052909694612026215, 0.07805800437927246, 0.008055297657847404, -0.008793734945356846, -0.03549046069383621, -0.03630375862121582, -0.0030804360285401344, 0.006496552377939224, 0.048028614372015, -0.03216256946325302, -0.021328335627913475, 0.11453083157539368, -0.015465791337192059, -0.014412456192076206, 0.04922644793987274, 0.03480357676744461, -0.04417497664690018, -0.0034351826179772615, -0.03414814919233322]}}\n",
      "Pipeline result '1' = {'retriever': {'documents': [Document(id=a3ee3a9a55b47ff651ae11dc56d84d2b6f8d931b795bd866c14eacfa56000965, content: 'Within it, too, are to be seen large masses of rock, by the weight of which the artist steadied it w...', meta: {'url': 'https://en.wikipedia.org/wiki/Colossus_of_Rhodes', '_split_id': 9}, score: 0.6489616912887838), Document(id=c674d039894fc1fdcfef9d3801ae976919c7fbe6b81a189a8ca630cd4e1d7961, content: 'Construction[edit]\n",
      "Timeline and map of the Seven Wonders of the Ancient World, including the Colossu...', meta: {'url': 'https://en.wikipedia.org/wiki/Colossus_of_Rhodes', '_split_id': 2}, score: 0.6150804106120916), Document(id=75fd8474f2c88337f7e0dad69eba0f24ba293cb06693fb746ec403df01a1c0c5, content: 'The Colossus of Rhodes (Ancient Greek: ὁ Κολοσσὸς Ῥόδιος, romanized: ho Kolossòs Rhódios Greek: Κολο...', meta: {'url': 'https://en.wikipedia.org/wiki/Colossus_of_Rhodes', '_split_id': 0}, score: 0.6050883321581637), Document(id=e918ad9b3106c229ab9992845bbe2cf11b9ee7e06bf48970faf32e78c9ba9dac, content: 'Silver tetradrachm of Rhodes showing Helios and a rose (205–190 BC, 13.48 g)\n",
      "While scholars do not k...', meta: {'url': 'https://en.wikipedia.org/wiki/Colossus_of_Rhodes', '_split_id': 14}, score: 0.604972299638214), Document(id=e3f80e18c67ef207b78369919d724c1c84173f4e491085a633621e53cb40c458, content: 'To you, O Sun, the people of Dorian Rhodes set up this bronze statue reaching to Olympus, when they ...', meta: {'url': 'https://en.wikipedia.org/wiki/Colossus_of_Rhodes', '_split_id': 5}, score: 0.5872718678023743), Document(id=5e4115a663f0afb5f51c3aba9d04daf6f4fae39031cc55e553e31d7be7f1d734, content: '[6]\n",
      "In 653, an Arab force under Muslim general Muawiyah I conquered Rhodes, and according to the Chr...', meta: {'url': 'https://en.wikipedia.org/wiki/Colossus_of_Rhodes', '_split_id': 1}, score: 0.5865756243052666), Document(id=382f34edec5b00cf78649285c6968c9fefbc8418b410bdd28f13da2226a4c204, content: 'Seeking to outdo their Athenian rivals, the Eleans employed sculptor Phidias, who had previously mad...', meta: {'url': 'https://en.wikipedia.org/wiki/Statue_of_Zeus_at_Olympia', '_split_id': 1}, score: 0.579078554679531), Document(id=f10c7c36e492e69177236cfcf2e129209c0818d294ed9d02718ab5b26c608348, content: '[5] Zeus' golden sandals rested upon a footstool decorated with an Amazonomachy in relief. The passa...', meta: {'url': 'https://en.wikipedia.org/wiki/Statue_of_Zeus_at_Olympia', '_split_id': 2}, score: 0.5761535684653936), Document(id=635c136fb7d15406c60d10b206b1eb6fe876eedf6cc460f35b60d1d4386ba451, content: 'Also, the fallen statue would have blocked the harbour, and since the ancient Rhodians did not have ...', meta: {'url': 'https://en.wikipedia.org/wiki/Colossus_of_Rhodes', '_split_id': 13}, score: 0.5711249479642682), Document(id=cdda325aed5b28cc0818d066371b9d110a45d1795376150895e7cde993e20275, content: 'The Statue of Zeus at Olympia was a giant seated figure, about 12.4 m (41 ft) tall,[1] made by the G...', meta: {'url': 'https://en.wikipedia.org/wiki/Statue_of_Zeus_at_Olympia', '_split_id': 0}, score: 0.5351229824481104)]}}\n",
      "Pipeline result '2' = {'prompt_builder': {'prompt': [ChatMessage(_role=<ChatRole.USER: 'user'>, _content=[TextContent(text='\\nGiven the following information, answer the question.\\n\\nContext:\\n\\n    Within it, too, are to be seen large masses of rock, by the weight of which the artist steadied it while erecting it.[22][23]\\nDestruction of the remains[edit]\\nThe ultimate fate of the remains of the statue is uncertain. Rhodes has two serious earthquakes per century, owing to its location on the seismically unstable Hellenic Arc. Pausanias tells us, writing ca. 174, how the city was so devastated by an earthquake that the Sibyl oracle foretelling its destruction was considered fulfilled.[24] This means the statue could not have survived for long if it was ever repaired. By the 4th century Rhodes was Christianized, meaning any further maintenance or rebuilding, if there ever was any before, on an ancient pagan statue is unlikely. The metal would have likely been used for coins and maybe also tools by the time of the Arab wars, especially during earlier conflicts such as the Sassanian wars.[9]\\nThe onset of Islamic naval incursions against the Byzantine empire gave rise to a dramatic account of what became of the Colossus. \\n\\n    Construction[edit]\\nTimeline and map of the Seven Wonders of the Ancient World, including the Colossus of Rhodes\\nConstruction began in 292\\xa0BC. Ancient accounts, which differ to some degree, describe the structure as being built with iron tie bars to which brass plates were fixed to form the skin. The interior of the structure, which stood on a 15-metre-high (49-foot) white marble pedestal near the Rhodes harbour entrance, was then filled with stone blocks as construction progressed.[14] Other sources place the Colossus on a breakwater in the harbour. According to most contemporary descriptions, the statue itself was about 70 cubits, or 32 metres (105 feet) tall.[15] Much of the iron and bronze was reforged from the various weapons Demetrius\\'s army left behind, and the abandoned second siege tower may have been used for scaffolding around the lower levels during construction.\\n\\n\\n    The Colossus of Rhodes (Ancient Greek: ὁ Κολοσσὸς Ῥόδιος, romanized:\\xa0ho Kolossòs Rhódios Greek: Κολοσσός της Ρόδου, romanized:\\xa0Kolossós tes Rhódou)[a] was a statue of the Greek sun-god Helios, erected in the city of Rhodes, on the Greek island of the same name, by Chares of Lindos in 280\\xa0BC. One of the Seven Wonders of the Ancient World, it was constructed to celebrate the successful defence of Rhodes city against an attack by Demetrius Poliorcetes, who had besieged it for a year with a large army and navy.\\nAccording to most contemporary descriptions, the Colossus stood approximately 70 cubits, or 33 metres (108 feet) high – approximately the height of the modern Statue of Liberty from feet to crown – making it the tallest statue in the ancient world.[2] It collapsed during the earthquake of 226 BC, although parts of it were preserved. In accordance with a certain oracle, the Rhodians did not build it again.[3] John Malalas wrote that Hadrian in his reign re-erected the Colossus,[4] but he was mistaken.[5] According to the Suda, the Rhodians were called Colossaeans (Κολοσσαεῖς), because they erected the statue on the island.\\n\\n    Silver tetradrachm of Rhodes showing Helios and a rose (205–190 BC, 13.48 g)\\nWhile scholars do not know what the statue looked like, they do have a good idea of what the head and face looked like, as it was of a standard rendering at the time. The head would have had curly hair with evenly spaced spikes of bronze or silver flame radiating, similar to the images found on contemporary Rhodian coins.[29]\\n\\nPossible locations[edit]\\nThe old harbour entrance from inner embankment. The Fortress of St Nicholas is on right\\nWhile scholars generally agree that anecdotal depictions of the Colossus straddling the harbour\\'s entry point have no historic or scientific basis,[29] the monument\\'s actual location remains a matter of debate. As mentioned above the statue is thought locally to have stood where two pillars now stand at the Mandraki port entrance.\\nThe floor of the Fortress of St Nicholas, near the harbour entrance, contains a circle of sandstone blocks of unknown origin or purpose. \\n\\n    To you, O Sun, the people of Dorian Rhodes set up this bronze statue reaching to Olympus, when they had pacified the waves of war and crowned their city with the spoils taken from the enemy. Not only over the seas but also on land did they kindle the lovely torch of freedom and independence. For to the descendants of Herakles belongs dominion over sea and land.\\nCollapse (226\\xa0BC)[edit]\\nArtist\\'s conception from the Grolier Society\\'s 1911 Book of Knowledge\\nFurther information: 226 BC Rhodes earthquake\\nThe statue stood for 54 years until a 226\\xa0BC earthquake caused significant damage to large portions of Rhodes, including the harbour and commercial buildings, which were destroyed.[19] The statue snapped at the knees and fell over onto land. Ptolemy III offered to pay for the reconstruction of the statue, but the Oracle of Delphi made the Rhodians fear that they had offended Helios, and they declined to rebuild it.[citation needed]\\n\\nFallen state (226\\xa0BC to 653\\xa0AD)[edit]\\nThe remains lay on the ground for over 800 years, and even broken, they were so impressive that many travelled to see them.\\n\\n\\n    [6]\\nIn 653, an Arab force under Muslim general Muawiyah I conquered Rhodes, and according to the Chronicle of Theophanes the Confessor,[7] the statue was completely destroyed and the remains sold;[8] this account may be unreliable.[9]\\nSince 2008, a series of as-yet-unrealized proposals to build a new Colossus at Rhodes Harbour have been announced, although the actual location of the original monument remains in dispute.[10][11]\\n\\nSiege of Rhodes[edit]\\nMain article: Siege of Rhodes (305–304\\xa0BC)\\nIn the early fourth century BC, Rhodes, allied with Ptolemy I of Egypt, prevented a mass invasion staged by their common enemy, Antigonus I Monophthalmus.\\nIn 304\\xa0BC a relief force of ships sent by Ptolemy arrived, and Demetrius (son of Antigonus) and his army abandoned the siege, leaving behind most of their siege equipment. To celebrate their victory, the Rhodians sold the equipment left behind for 300 talents[12] and decided to use the money to build a colossal statue of their patron god, Helios. Construction was left to the direction of Chares, a native of Lindos in Rhodes, who had been involved with large-scale statues before. His teacher, the sculptor Lysippos, had constructed a 22-metre-high (72-foot)[13] bronze statue of Zeus at Tarentum.\\n\\n\\n\\n    Seeking to outdo their Athenian rivals, the Eleans employed sculptor Phidias, who had previously made the massive statue of Athena Parthenos in the Parthenon.[2]\\nThe statue occupied half the width of the aisle of the temple built to house it. The geographer Strabo noted early in the 1st century BC that the statue gave \"the impression that if Zeus arose and stood erect he would unroof the temple.\"[3] The Zeus was a chryselephantine sculpture, made with ivory and gold panels on a wooden substructure. No copy in marble or bronze has survived, though there are recognizable but only approximate versions on coins of nearby Elis and on Roman coins and engraved gems.[4]\\nThe 2nd-century AD geographer and traveler Pausanias left a detailed description: the statue was crowned with a sculpted wreath of olive sprays and wore a gilded robe made from glass and carved with animals and lilies. Its right hand held a small chryselephantine statue of crowned Nike, goddess of victory; its left a scepter inlaid with many metals, supporting an eagle. The throne featured painted figures and wrought images and was decorated with gold, precious stones, ebony, and ivory.\\n\\n    [5] Zeus\\' golden sandals rested upon a footstool decorated with an Amazonomachy in relief. The passage underneath the throne was restricted by painted screens.[6]\\nPausanias also recounts that the statue was kept constantly coated with olive oil to counter the harmful effect on the ivory caused by the \"marshiness\" of the Altis grove. The floor in front of the image was paved with black tiles and surrounded by a raised rim of marble to contain the oil.[7] This reservoir acted as a reflecting pool which doubled the apparent height of the statue.[8]\\nAccording to the Roman historian Livy, the Roman general Aemilius Paullus (the victor over Macedon) saw the statue and \"was moved to his soul, as if he had seen the god in person\",[9] while the 1st-century\\xa0AD Greek orator Dio Chrysostom declared that a single glimpse of the statue would make a man forget all his earthly troubles.\\n\\n    Also, the fallen statue would have blocked the harbour, and since the ancient Rhodians did not have the ability to remove the fallen statue from the harbour, it would not have remained visible on land for the next 800 years, as discussed above. Even neglecting these objections, the statue was made of bronze, and engineering analyses indicate that it could not have been built with its legs apart without collapsing under its own weight.[29]\\nMany researchers have considered alternative positions for the statue which would have made it more feasible for actual construction by the ancients.[29][30] There is also no evidence that the statue held a torch aloft; the records simply say that after completion, the Rhodians kindled the \"torch of freedom\". A relief in a nearby temple shows Helios standing with one hand shielding his eyes, similar to the way a person shields their eyes when looking toward the sun, and it is quite possible that the colossus was constructed in the same pose.\\n\\n\\n\\n    The Statue of Zeus at Olympia was a giant seated figure, about 12.4\\xa0m (41\\xa0ft) tall,[1] made by the Greek sculptor Phidias around 435 BC at the sanctuary of Olympia, Greece, and erected in the Temple of Zeus there.  Zeus is the sky and thunder god in ancient Greek religion, who rules as king of the gods of Mount Olympus.\\nThe statue was a chryselephantine sculpture of ivory plates and gold panels on a wooden framework. Zeus sat on a painted cedarwood throne ornamented with ebony, ivory, gold, and precious stones. It was one of the Seven Wonders of the Ancient World.\\nThe statue was lost and destroyed before the end of the 5th century AD, with conflicting accounts of the date and circumstances. Details of its form are known only from ancient Greek descriptions and representations on coins.\\n\\nCoin from Elis district in southern Greece illustrating the Olympian Zeus statue (Nordisk familjebok)\\n\\nHistory[edit]\\nThe statue of Zeus was commissioned by the Eleans, custodians of the Olympic Games, in the latter half of the fifth century BC for their newly constructed Temple of Zeus.  \\n\\n\\nQuestion: What does Rhodes Statue look like?\\nAnswer:')], _meta={})]}}\n",
      "Pipeline result '3' = {'llm': {'replies': [ChatMessage(_role=<ChatRole.ASSISTANT: 'assistant'>, _content=[TextContent(text='The Colossus of Rhodes was a massive statue of the Greek sun-god Helios, believed to have stood approximately 70 cubits or about 33 meters (108 feet) tall. While there are no surviving depictions of the statue, scholars suggest it featured curly hair with bronze or silver flame-like spikes radiating from the head, resembling the imagery found on contemporary Rhodian coins.\\n\\nThe statue was constructed using iron tie bars with brass plates forming the outer skin and filled with stone blocks. Its posture is still debated, but it is thought to have been designed in a way that conveyed strength and grandeur, possibly standing with one hand shielding its eyes as if looking at the sun, rather than holding a torch aloft as is sometimes imagined. Overall, it presented an impressive and monumental representation of Helios, symbolizing freedom and independence following the successful defense of Rhodes.')], _meta={'model': 'gpt-4o-mini-2024-07-18', 'index': 0, 'finish_reason': 'stop', 'usage': {'completion_tokens': 175, 'prompt_tokens': 2405, 'total_tokens': 2580, 'prompt_tokens_details': {'cached_tokens': 2176, 'audio_tokens': 0}, 'completion_tokens_details': {'reasoning_tokens': 0, 'audio_tokens': 0, 'accepted_prediction_tokens': 0, 'rejected_prediction_tokens': 0}}})]}}\n",
      "Pipeline result '4' = {'llm': {'replies': [ChatMessage(_role=<ChatRole.ASSISTANT: 'assistant'>, _content=[TextContent(text='The Colossus of Rhodes was a massive statue of the Greek sun-god Helios, believed to have stood approximately 70 cubits or about 33 meters (108 feet) tall. While there are no surviving depictions of the statue, scholars suggest it featured curly hair with bronze or silver flame-like spikes radiating from the head, resembling the imagery found on contemporary Rhodian coins.\\n\\nThe statue was constructed using iron tie bars with brass plates forming the outer skin and filled with stone blocks. Its posture is still debated, but it is thought to have been designed in a way that conveyed strength and grandeur, possibly standing with one hand shielding its eyes as if looking at the sun, rather than holding a torch aloft as is sometimes imagined. Overall, it presented an impressive and monumental representation of Helios, symbolizing freedom and independence following the successful defense of Rhodes.')], _meta={'model': 'gpt-4o-mini-2024-07-18', 'index': 0, 'finish_reason': 'stop', 'usage': {'completion_tokens': 175, 'prompt_tokens': 2405, 'total_tokens': 2580, 'prompt_tokens_details': {'cached_tokens': 2176, 'audio_tokens': 0}, 'completion_tokens_details': {'reasoning_tokens': 0, 'audio_tokens': 0, 'accepted_prediction_tokens': 0, 'rejected_prediction_tokens': 0}}})]}}\n",
      "\tOutput: ChatMessage(_role=<ChatRole.ASSISTANT: 'assistant'>, _content=[TextContent(text='The Colossus of Rhodes was a massive statue of the Greek sun-god Helios, believed to have stood approximately 70 cubits or about 33 meters (108 feet) tall. While there are no surviving depictions of the statue, scholars suggest it featured curly hair with bronze or silver flame-like spikes radiating from the head, resembling the imagery found on contemporary Rhodian coins.\\n\\nThe statue was constructed using iron tie bars with brass plates forming the outer skin and filled with stone blocks. Its posture is still debated, but it is thought to have been designed in a way that conveyed strength and grandeur, possibly standing with one hand shielding its eyes as if looking at the sun, rather than holding a torch aloft as is sometimes imagined. Overall, it presented an impressive and monumental representation of Helios, symbolizing freedom and independence following the successful defense of Rhodes.')], _meta={'model': 'gpt-4o-mini-2024-07-18', 'index': 0, 'finish_reason': 'stop', 'usage': {'completion_tokens': 175, 'prompt_tokens': 2405, 'total_tokens': 2580, 'prompt_tokens_details': {'cached_tokens': 2176, 'audio_tokens': 0}, 'completion_tokens_details': {'reasoning_tokens': 0, 'audio_tokens': 0, 'accepted_prediction_tokens': 0, 'rejected_prediction_tokens': 0}}})\n",
      "\n",
      "Done!\n"
     ]
    }
   ],
   "source": [
    "examples = [\n",
    "    \"Where is Gardens of Babylon?\",\n",
    "    \"Why did people build Great Pyramid of Giza?\",\n",
    "    \"What does Rhodes Statue look like?\",\n",
    "]\n",
    "\n",
    "async def run_query_pipeline():\n",
    "    global examples\n",
    "    for question in examples:\n",
    "        print(f\"Querying pipeline with question: '{question}'\")\n",
    "        response = await query_pipeline(question)\n",
    "        print(f'\\tOutput: {response[\"llm\"][\"replies\"][0]}\\n')\n",
    "\n",
    "    print(\"Done!\")\n",
    "\n",
    "\n",
    "await run_query_pipeline()"
   ]
  },
  {
   "cell_type": "markdown",
   "metadata": {},
   "source": [
    "You can alternatively use the `run_async_pipeline` helper function to execute an `AsyncPipeline` in the same manner as a regular `Pipeline` while retaining the benefits of cooperative scheduling."
   ]
  },
  {
   "cell_type": "code",
   "execution_count": 26,
   "metadata": {},
   "outputs": [
    {
     "data": {
      "application/vnd.jupyter.widget-view+json": {
       "model_id": "8ed0c5084c5c454ebc740859b7f2a83c",
       "version_major": 2,
       "version_minor": 0
      },
      "text/plain": [
       "Batches:   0%|          | 0/1 [00:00<?, ?it/s]"
      ]
     },
     "metadata": {},
     "output_type": "display_data"
    },
    {
     "name": "stdout",
     "output_type": "stream",
     "text": [
      "{'llm': {'replies': [ChatMessage(_role=<ChatRole.ASSISTANT: 'assistant'>, _content=[TextContent(text='The Hanging Gardens of Babylon are said to have been located in the ancient city of Babylon, which corresponds to the site near present-day Hillah, Babil province, in Iraq. However, the exact location of the gardens has not been definitively established, and there is ongoing debate about whether they actually existed in Babylon or if they were instead a mythical creation or attributed to another location, such as the gardens built by the Assyrian King Sennacherib in Nineveh.')], _meta={'model': 'gpt-4o-mini-2024-07-18', 'index': 0, 'finish_reason': 'stop', 'usage': {'completion_tokens': 95, 'prompt_tokens': 2627, 'total_tokens': 2722, 'prompt_tokens_details': {'cached_tokens': 2432, 'audio_tokens': 0}, 'completion_tokens_details': {'reasoning_tokens': 0, 'audio_tokens': 0, 'accepted_prediction_tokens': 0, 'rejected_prediction_tokens': 0}}})]}, 'retriever': {'documents': [Document(id=1d3b00c0c761487040b62edb06fdcd47b84a7ea8e35382c474f9107bcb7f2afe, content: 'The construction of the Hanging Gardens has also been attributed to the legendary queen Semiramis[4]...', meta: {'url': 'https://en.wikipedia.org/wiki/Hanging_Gardens_of_Babylon', '_split_id': 1}, score: 0.6933103946695331), Document(id=1ac6d4aedca0f952d87a1cfd4d4bde946d54f103a8f802419671d9ad2e26f3bc, content: '[21] However, the gardens were said to still exist at the time that later writers described them, an...', meta: {'url': 'https://en.wikipedia.org/wiki/Hanging_Gardens_of_Babylon', '_split_id': 5}, score: 0.6839754804655184), Document(id=d9d010c8de4b44dade963cb84f936a313a56f96e9aaed19f760cf8538ded0e4f, content: 'The Hanging Gardens of Babylon were one of the Seven Wonders of the Ancient World listed by Hellenic...', meta: {'url': 'https://en.wikipedia.org/wiki/Hanging_Gardens_of_Babylon', '_split_id': 0}, score: 0.6531970522220067), Document(id=228e349738d8c6c68233469ae86ab78031b08c2641fca5ca1741d9607d7d254d, content: 'These writers concern themselves with the size of the Hanging Gardens, their overall design and mean...', meta: {'url': 'https://en.wikipedia.org/wiki/Hanging_Gardens_of_Babylon', '_split_id': 2}, score: 0.591810805749112), Document(id=6b10fe81a7fbed8b3cccea3009351bf20bfb6c53f7b3993223f1f3b97b836992, content: '[24]\n",
      "\n",
      "Identification with Sennacherib's gardens at Nineveh\n",
      "See also: Nineveh § Sennacherib's Nineveh...', meta: {'url': 'https://en.wikipedia.org/wiki/Hanging_Gardens_of_Babylon', '_split_id': 6}, score: 0.5892575383617347), Document(id=785075351ac84affb97aca27041e4a412e2e7ac7b3a03c986b5ca6fdd386425c, content: '[36] There was a tradition of Assyrian royal garden building. King Ashurnasirpal II (883–859 BC) had...', meta: {'url': 'https://en.wikipedia.org/wiki/Hanging_Gardens_of_Babylon', '_split_id': 8}, score: 0.5697163861015603), Document(id=c35f53862a8132d1130bb7c0d349406a02f095c5c7024685e8528379b066d06c, content: 'He states that the garden was in the shape of a square, with each side approximately four plethra lo...', meta: {'url': 'https://en.wikipedia.org/wiki/Hanging_Gardens_of_Babylon', '_split_id': 3}, score: 0.5678228438294216), Document(id=48772903972a37c30dc1acf6ca2a712cfadbfff28d1a64d135e91a4f8b056c99, content: 'This meant he could build a garden that towered above the landscape with large trees on the top of t...', meta: {'url': 'https://en.wikipedia.org/wiki/Hanging_Gardens_of_Babylon', '_split_id': 10}, score: 0.5440582921570107), Document(id=2f4361500c404bd24138661ad346b314fd575925472e79b4d0b6f67781e1ca1c, content: 'The last of the classical sources thought to be independent of the others is A Handbook to the Seven...', meta: {'url': 'https://en.wikipedia.org/wiki/Hanging_Gardens_of_Babylon', '_split_id': 4}, score: 0.5316688379569133), Document(id=8898fdd9ba5e7049fcec94ae5e9f172337de969977ccbfb1d5e2b23baf964d15, content: 'Only Josephus names Nebuchadnezzar as the king who built the gardens; although Nebuchadnezzar left m...', meta: {'url': 'https://en.wikipedia.org/wiki/Hanging_Gardens_of_Babylon', '_split_id': 7}, score: 0.5253896148014423)]}}\n"
     ]
    }
   ],
   "source": [
    "from haystack_experimental.core import run_async_pipeline\n",
    "\n",
    "question = examples[0]\n",
    "outputs = await run_async_pipeline(\n",
    "    async_rag_pipeline,\n",
    "    {\"text_embedder\": {\"text\": question}, \"prompt_builder\": {\"question\": question}},\n",
    "    include_outputs_from={\"retriever\"},\n",
    ")\n",
    "\n",
    "print(outputs)"
   ]
  },
  {
   "cell_type": "markdown",
   "metadata": {},
   "source": [
    "## Custom Asynchronous Components\n",
    "\n",
    "Individual components can opt into async by implementing a `run_async` coroutine that has the same signature, i.e., input parameters and outputs as the `run` method. This constraint is placed to ensure that pipeline connections are the same irrespective of whether a component supports async execution, allowing for plug-n-play backward compatibility with existing pipelines.\n"
   ]
  },
  {
   "cell_type": "code",
   "execution_count": 27,
   "metadata": {},
   "outputs": [],
   "source": [
    "from typing import Dict, Any\n",
    "from haystack import component\n",
    "\n",
    "@component\n",
    "class MyCustomComponent:\n",
    "    def __init__(self, my_custom_param: str):\n",
    "        self.my_custom_param = my_custom_param\n",
    "\n",
    "    @component.output_types(original=str, concatenated=str)\n",
    "    def run(self, input: str) -> Dict[str, Any]:\n",
    "        return {\n",
    "            \"original\": input,\n",
    "            \"concatenated\": input + self.my_custom_param\n",
    "        }\n",
    "\n",
    "    async def do_io_bound_op(self, input: str) -> str:\n",
    "        # Do some IO-bound operation here\n",
    "        return input + self.my_custom_param\n",
    "\n",
    "    @component.output_types(original=str, concatenated=str)\n",
    "    async def run_async(self, input: str) -> Dict[str, Any]:\n",
    "        return {\n",
    "            \"original\": input,\n",
    "            \"concatenated\": await self.do_io_bound_op(input)\n",
    "        }"
   ]
  }
 ],
 "metadata": {
  "kernelspec": {
   "display_name": "dev",
   "language": "python",
   "name": "python3"
  },
  "language_info": {
   "codemirror_mode": {
    "name": "ipython",
    "version": 3
   },
   "file_extension": ".py",
   "mimetype": "text/x-python",
   "name": "python",
   "nbconvert_exporter": "python",
   "pygments_lexer": "ipython3",
   "version": "3.10.13"
  }
 },
 "nbformat": 4,
 "nbformat_minor": 2
}
