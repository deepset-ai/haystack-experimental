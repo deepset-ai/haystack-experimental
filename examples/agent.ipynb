{
 "cells": [
  {
   "cell_type": "code",
   "execution_count": 1,
   "id": "initial_id",
   "metadata": {
    "ExecuteTime": {
     "end_time": "2025-01-24T17:06:35.488576Z",
     "start_time": "2025-01-24T17:06:34.624501Z"
    }
   },
   "outputs": [
    {
     "name": "stdout",
     "output_type": "stream",
     "text": [
      "Requirement already satisfied: anthropic-haystack in /Users/mathislucka/Library/Application Support/hatch/env/virtual/haystack-experimental/0WxCzKa9/haystack-experimental/lib/python3.13/site-packages (2.0.0)\n",
      "Requirement already satisfied: anthropic in /Users/mathislucka/Library/Application Support/hatch/env/virtual/haystack-experimental/0WxCzKa9/haystack-experimental/lib/python3.13/site-packages (from anthropic-haystack) (0.45.0)\n",
      "Requirement already satisfied: haystack-ai>=2.9.0 in /Users/mathislucka/Library/Application Support/hatch/env/virtual/haystack-experimental/0WxCzKa9/haystack-experimental/lib/python3.13/site-packages (from anthropic-haystack) (2.9.0)\n",
      "Requirement already satisfied: haystack-experimental in /Users/mathislucka/Library/Application Support/hatch/env/virtual/haystack-experimental/0WxCzKa9/haystack-experimental/lib/python3.13/site-packages (from haystack-ai>=2.9.0->anthropic-haystack) (0.4.1.dev6+g41903c1)\n",
      "Requirement already satisfied: jinja2 in /Users/mathislucka/Library/Application Support/hatch/env/virtual/haystack-experimental/0WxCzKa9/haystack-experimental/lib/python3.13/site-packages (from haystack-ai>=2.9.0->anthropic-haystack) (3.1.5)\n",
      "Requirement already satisfied: lazy-imports in /Users/mathislucka/Library/Application Support/hatch/env/virtual/haystack-experimental/0WxCzKa9/haystack-experimental/lib/python3.13/site-packages (from haystack-ai>=2.9.0->anthropic-haystack) (0.4.0)\n",
      "Requirement already satisfied: more-itertools in /Users/mathislucka/Library/Application Support/hatch/env/virtual/haystack-experimental/0WxCzKa9/haystack-experimental/lib/python3.13/site-packages (from haystack-ai>=2.9.0->anthropic-haystack) (10.5.0)\n",
      "Requirement already satisfied: networkx in /Users/mathislucka/Library/Application Support/hatch/env/virtual/haystack-experimental/0WxCzKa9/haystack-experimental/lib/python3.13/site-packages (from haystack-ai>=2.9.0->anthropic-haystack) (3.4.2)\n",
      "Requirement already satisfied: numpy in /Users/mathislucka/Library/Application Support/hatch/env/virtual/haystack-experimental/0WxCzKa9/haystack-experimental/lib/python3.13/site-packages (from haystack-ai>=2.9.0->anthropic-haystack) (2.2.1)\n",
      "Requirement already satisfied: openai>=1.56.1 in /Users/mathislucka/Library/Application Support/hatch/env/virtual/haystack-experimental/0WxCzKa9/haystack-experimental/lib/python3.13/site-packages (from haystack-ai>=2.9.0->anthropic-haystack) (1.59.6)\n",
      "Requirement already satisfied: pandas in /Users/mathislucka/Library/Application Support/hatch/env/virtual/haystack-experimental/0WxCzKa9/haystack-experimental/lib/python3.13/site-packages (from haystack-ai>=2.9.0->anthropic-haystack) (2.2.3)\n",
      "Requirement already satisfied: posthog in /Users/mathislucka/Library/Application Support/hatch/env/virtual/haystack-experimental/0WxCzKa9/haystack-experimental/lib/python3.13/site-packages (from haystack-ai>=2.9.0->anthropic-haystack) (3.7.5)\n",
      "Requirement already satisfied: pydantic in /Users/mathislucka/Library/Application Support/hatch/env/virtual/haystack-experimental/0WxCzKa9/haystack-experimental/lib/python3.13/site-packages (from haystack-ai>=2.9.0->anthropic-haystack) (2.10.5)\n",
      "Requirement already satisfied: python-dateutil in /Users/mathislucka/Library/Application Support/hatch/env/virtual/haystack-experimental/0WxCzKa9/haystack-experimental/lib/python3.13/site-packages (from haystack-ai>=2.9.0->anthropic-haystack) (2.9.0.post0)\n",
      "Requirement already satisfied: pyyaml in /Users/mathislucka/Library/Application Support/hatch/env/virtual/haystack-experimental/0WxCzKa9/haystack-experimental/lib/python3.13/site-packages (from haystack-ai>=2.9.0->anthropic-haystack) (6.0.2)\n",
      "Requirement already satisfied: requests in /Users/mathislucka/Library/Application Support/hatch/env/virtual/haystack-experimental/0WxCzKa9/haystack-experimental/lib/python3.13/site-packages (from haystack-ai>=2.9.0->anthropic-haystack) (2.32.3)\n",
      "Requirement already satisfied: tenacity!=8.4.0 in /Users/mathislucka/Library/Application Support/hatch/env/virtual/haystack-experimental/0WxCzKa9/haystack-experimental/lib/python3.13/site-packages (from haystack-ai>=2.9.0->anthropic-haystack) (9.0.0)\n",
      "Requirement already satisfied: tqdm in /Users/mathislucka/Library/Application Support/hatch/env/virtual/haystack-experimental/0WxCzKa9/haystack-experimental/lib/python3.13/site-packages (from haystack-ai>=2.9.0->anthropic-haystack) (4.67.1)\n",
      "Requirement already satisfied: typing-extensions>=4.7 in /Users/mathislucka/Library/Application Support/hatch/env/virtual/haystack-experimental/0WxCzKa9/haystack-experimental/lib/python3.13/site-packages (from haystack-ai>=2.9.0->anthropic-haystack) (4.12.2)\n",
      "Requirement already satisfied: anyio<5,>=3.5.0 in /Users/mathislucka/Library/Application Support/hatch/env/virtual/haystack-experimental/0WxCzKa9/haystack-experimental/lib/python3.13/site-packages (from anthropic->anthropic-haystack) (4.8.0)\n",
      "Requirement already satisfied: distro<2,>=1.7.0 in /Users/mathislucka/Library/Application Support/hatch/env/virtual/haystack-experimental/0WxCzKa9/haystack-experimental/lib/python3.13/site-packages (from anthropic->anthropic-haystack) (1.9.0)\n",
      "Requirement already satisfied: httpx<1,>=0.23.0 in /Users/mathislucka/Library/Application Support/hatch/env/virtual/haystack-experimental/0WxCzKa9/haystack-experimental/lib/python3.13/site-packages (from anthropic->anthropic-haystack) (0.28.1)\n",
      "Requirement already satisfied: jiter<1,>=0.4.0 in /Users/mathislucka/Library/Application Support/hatch/env/virtual/haystack-experimental/0WxCzKa9/haystack-experimental/lib/python3.13/site-packages (from anthropic->anthropic-haystack) (0.8.2)\n",
      "Requirement already satisfied: sniffio in /Users/mathislucka/Library/Application Support/hatch/env/virtual/haystack-experimental/0WxCzKa9/haystack-experimental/lib/python3.13/site-packages (from anthropic->anthropic-haystack) (1.3.1)\n",
      "Requirement already satisfied: idna>=2.8 in /Users/mathislucka/Library/Application Support/hatch/env/virtual/haystack-experimental/0WxCzKa9/haystack-experimental/lib/python3.13/site-packages (from anyio<5,>=3.5.0->anthropic->anthropic-haystack) (3.10)\n",
      "Requirement already satisfied: certifi in /Users/mathislucka/Library/Application Support/hatch/env/virtual/haystack-experimental/0WxCzKa9/haystack-experimental/lib/python3.13/site-packages (from httpx<1,>=0.23.0->anthropic->anthropic-haystack) (2024.12.14)\n",
      "Requirement already satisfied: httpcore==1.* in /Users/mathislucka/Library/Application Support/hatch/env/virtual/haystack-experimental/0WxCzKa9/haystack-experimental/lib/python3.13/site-packages (from httpx<1,>=0.23.0->anthropic->anthropic-haystack) (1.0.7)\n",
      "Requirement already satisfied: h11<0.15,>=0.13 in /Users/mathislucka/Library/Application Support/hatch/env/virtual/haystack-experimental/0WxCzKa9/haystack-experimental/lib/python3.13/site-packages (from httpcore==1.*->httpx<1,>=0.23.0->anthropic->anthropic-haystack) (0.14.0)\n",
      "Requirement already satisfied: annotated-types>=0.6.0 in /Users/mathislucka/Library/Application Support/hatch/env/virtual/haystack-experimental/0WxCzKa9/haystack-experimental/lib/python3.13/site-packages (from pydantic->haystack-ai>=2.9.0->anthropic-haystack) (0.7.0)\n",
      "Requirement already satisfied: pydantic-core==2.27.2 in /Users/mathislucka/Library/Application Support/hatch/env/virtual/haystack-experimental/0WxCzKa9/haystack-experimental/lib/python3.13/site-packages (from pydantic->haystack-ai>=2.9.0->anthropic-haystack) (2.27.2)\n",
      "Requirement already satisfied: MarkupSafe>=2.0 in /Users/mathislucka/Library/Application Support/hatch/env/virtual/haystack-experimental/0WxCzKa9/haystack-experimental/lib/python3.13/site-packages (from jinja2->haystack-ai>=2.9.0->anthropic-haystack) (3.0.2)\n",
      "Requirement already satisfied: pytz>=2020.1 in /Users/mathislucka/Library/Application Support/hatch/env/virtual/haystack-experimental/0WxCzKa9/haystack-experimental/lib/python3.13/site-packages (from pandas->haystack-ai>=2.9.0->anthropic-haystack) (2024.2)\n",
      "Requirement already satisfied: tzdata>=2022.7 in /Users/mathislucka/Library/Application Support/hatch/env/virtual/haystack-experimental/0WxCzKa9/haystack-experimental/lib/python3.13/site-packages (from pandas->haystack-ai>=2.9.0->anthropic-haystack) (2024.2)\n",
      "Requirement already satisfied: six>=1.5 in /Users/mathislucka/Library/Application Support/hatch/env/virtual/haystack-experimental/0WxCzKa9/haystack-experimental/lib/python3.13/site-packages (from python-dateutil->haystack-ai>=2.9.0->anthropic-haystack) (1.17.0)\n",
      "Requirement already satisfied: monotonic>=1.5 in /Users/mathislucka/Library/Application Support/hatch/env/virtual/haystack-experimental/0WxCzKa9/haystack-experimental/lib/python3.13/site-packages (from posthog->haystack-ai>=2.9.0->anthropic-haystack) (1.6)\n",
      "Requirement already satisfied: backoff>=1.10.0 in /Users/mathislucka/Library/Application Support/hatch/env/virtual/haystack-experimental/0WxCzKa9/haystack-experimental/lib/python3.13/site-packages (from posthog->haystack-ai>=2.9.0->anthropic-haystack) (2.2.1)\n",
      "Requirement already satisfied: charset-normalizer<4,>=2 in /Users/mathislucka/Library/Application Support/hatch/env/virtual/haystack-experimental/0WxCzKa9/haystack-experimental/lib/python3.13/site-packages (from requests->haystack-ai>=2.9.0->anthropic-haystack) (3.4.1)\n",
      "Requirement already satisfied: urllib3<3,>=1.21.1 in /Users/mathislucka/Library/Application Support/hatch/env/virtual/haystack-experimental/0WxCzKa9/haystack-experimental/lib/python3.13/site-packages (from requests->haystack-ai>=2.9.0->anthropic-haystack) (2.3.0)\n"
     ]
    }
   ],
   "source": [
    "!pip install anthropic-haystack"
   ]
  },
  {
   "cell_type": "code",
   "execution_count": 2,
   "id": "1ac0641a1523ba57",
   "metadata": {
    "ExecuteTime": {
     "end_time": "2025-01-24T17:06:36.816338Z",
     "start_time": "2025-01-24T17:06:35.491955Z"
    }
   },
   "outputs": [],
   "source": [
    "import os\n",
    "from getpass import getpass\n",
    "from typing import List\n",
    "\n",
    "from haystack_experimental.components.agents import Agent\n",
    "from haystack_experimental.components.tools.tool_context import ToolContext\n",
    "\n",
    "from haystack_experimental import Pipeline\n",
    "from haystack.tools import Tool, tool\n",
    "from haystack.dataclasses import ChatMessage, Document\n",
    "from haystack.components.builders import ChatPromptBuilder\n",
    "\n",
    "from github_components.repo_viewer import GithubRepositoryViewer\n",
    "from github_components.issue_viewer import GithubIssueViewer"
   ]
  },
  {
   "cell_type": "code",
   "execution_count": 3,
   "id": "10dfea61ae6c2906",
   "metadata": {
    "ExecuteTime": {
     "end_time": "2025-01-24T17:06:36.881575Z",
     "start_time": "2025-01-24T17:06:36.877974Z"
    }
   },
   "outputs": [],
   "source": [
    "from agent_prompts import issue_prompt, repo_viewer_prompt, repo_viewer_schema"
   ]
  },
  {
   "cell_type": "code",
   "execution_count": 4,
   "id": "fd15936eb6849c53",
   "metadata": {
    "ExecuteTime": {
     "end_time": "2025-01-24T17:06:36.888060Z",
     "start_time": "2025-01-24T17:06:36.885633Z"
    }
   },
   "outputs": [],
   "source": [
    "def view_repository(ctx:  ToolContext, repo: str, path: str = \"\") -> str:\n",
    "    viewer = GithubRepositoryViewer(raise_on_failure=False)\n",
    "\n",
    "    result = viewer.run(path=path, repo=repo)\n",
    "\n",
    "    result_str = \"\"\n",
    "    for document in result[\"documents\"]:\n",
    "        if document.meta[\"type\"] in [\"file\", \"dir\", \"error\"]:\n",
    "            result_str += document.content + \"\\n\"\n",
    "        else:\n",
    "            result_str += f\"File Content for {document.meta['path']}\\n\\n\"\n",
    "            result_str += document.content\n",
    "\n",
    "    if len(result_str) > 150_000:\n",
    "        result_str = result_str[:150_000] + \"...(large file can't be fully displayed)\"\n",
    "\n",
    "    if output_docs := ctx.get_output(\"documents\"):\n",
    "        output_docs.extend(result[\"documents\"])\n",
    "        ctx.set_output(key=\"documents\", value=output_docs)\n",
    "    else:\n",
    "        ctx.set_output(key=\"documents\", value=result[\"documents\"])\n",
    "\n",
    "    return result_str"
   ]
  },
  {
   "cell_type": "code",
   "execution_count": 5,
   "id": "eb055b10c098b309",
   "metadata": {
    "ExecuteTime": {
     "end_time": "2025-01-24T17:06:36.898842Z",
     "start_time": "2025-01-24T17:06:36.896735Z"
    }
   },
   "outputs": [],
   "source": [
    "repo_viewer_tool = Tool(\n",
    "    name=\"view_repository\",\n",
    "    description=repo_viewer_prompt,\n",
    "    parameters=repo_viewer_schema,\n",
    "    function=view_repository,\n",
    ")"
   ]
  },
  {
   "cell_type": "code",
   "execution_count": 6,
   "id": "eb31fa163e7d5a11",
   "metadata": {
    "ExecuteTime": {
     "end_time": "2025-01-24T17:06:37.186406Z",
     "start_time": "2025-01-24T17:06:37.180213Z"
    }
   },
   "outputs": [],
   "source": [
    "@tool\n",
    "def create_comment(comment: str) -> str:\n",
    "    \"\"\"\n",
    "    Use this to create a Github comment once you finished your exploration.\n",
    "    \"\"\"\n",
    "    return comment\n"
   ]
  },
  {
   "cell_type": "code",
   "execution_count": 7,
   "id": "dd0aff035d9422d",
   "metadata": {
    "ExecuteTime": {
     "end_time": "2025-01-24T17:06:47.470507Z",
     "start_time": "2025-01-24T17:06:37.740518Z"
    }
   },
   "outputs": [
    {
     "name": "stdin",
     "output_type": "stream",
     "text": [
      "Anthropic Key:  ········\n"
     ]
    }
   ],
   "source": [
    "os.environ[\"LLM_API_KEY\"] = getpass(\"Anthropic Key: \")"
   ]
  },
  {
   "cell_type": "code",
   "execution_count": 8,
   "id": "325806047f4835ec",
   "metadata": {
    "ExecuteTime": {
     "end_time": "2025-01-24T17:06:49.035080Z",
     "start_time": "2025-01-24T17:06:48.976684Z"
    }
   },
   "outputs": [
    {
     "name": "stderr",
     "output_type": "stream",
     "text": [
      "/Users/mathislucka/Library/Application Support/hatch/env/virtual/haystack-experimental/0WxCzKa9/haystack-experimental/lib/python3.13/site-packages/haystack/components/routers/conditional_router.py:195: UserWarning: Unsafe mode is enabled. This allows execution of arbitrary code in the Jinja template. Use this only if you trust the source of the template.\n",
      "  warn(msg)\n"
     ]
    }
   ],
   "source": [
    "agent = Agent(\n",
    "    model=\"anthropic:claude-3-5-sonnet-latest\",\n",
    "    system_prompt=issue_prompt,\n",
    "    tools=[repo_viewer_tool, create_comment],\n",
    "    generation_kwargs={\"max_tokens\": 8000},\n",
    "    handoff=\"create_comment\",\n",
    "    output_variables={\"documents\": List[Document]}\n",
    ")"
   ]
  },
  {
   "cell_type": "code",
   "execution_count": 9,
   "id": "23ba459d24c3c08a",
   "metadata": {
    "ExecuteTime": {
     "end_time": "2025-01-24T17:06:49.943671Z",
     "start_time": "2025-01-24T17:06:49.938883Z"
    }
   },
   "outputs": [],
   "source": [
    "issue_template = \"\"\"\n",
    "Issue from: {{ url }}\n",
    "{% for document in documents %}\n",
    "{% if loop.index == 1 %}\n",
    "**Title: {{ document.meta.title }}**\n",
    "{% endif %}\n",
    "<issue-comment>\n",
    "{{document.content}}\n",
    "</issue-comment>\n",
    "{% endfor %}\n",
    "    \"\"\"\n",
    "\n",
    "issue_builder = ChatPromptBuilder(template=[ChatMessage.from_user(issue_template)])\n",
    "\n",
    "issue_fetcher = GithubIssueViewer()"
   ]
  },
  {
   "cell_type": "code",
   "execution_count": 10,
   "id": "e6a11bf5b53fa4d",
   "metadata": {
    "ExecuteTime": {
     "end_time": "2025-01-24T17:06:50.659844Z",
     "start_time": "2025-01-24T17:06:50.656991Z"
    }
   },
   "outputs": [],
   "source": [
    "issue_url = \"https://github.com/deepset-ai/haystack/issues/8740\""
   ]
  },
  {
   "cell_type": "code",
   "execution_count": 11,
   "id": "10d1cdd669be0d7d",
   "metadata": {
    "ExecuteTime": {
     "end_time": "2025-01-24T17:06:51.607430Z",
     "start_time": "2025-01-24T17:06:51.599167Z"
    }
   },
   "outputs": [
    {
     "data": {
      "text/plain": [
       "<haystack_experimental.core.pipeline.pipeline.Pipeline object at 0x128f2c050>\n",
       "🚅 Components\n",
       "  - issue_fetcher: GithubIssueViewer\n",
       "  - issue_builder: ChatPromptBuilder\n",
       "  - agent: Agent\n",
       "🛤️ Connections\n",
       "  - issue_fetcher.documents -> issue_builder.documents (List[Document])\n",
       "  - issue_builder.prompt -> agent.messages (List[ChatMessage])"
      ]
     },
     "execution_count": 11,
     "metadata": {},
     "output_type": "execute_result"
    }
   ],
   "source": [
    "pp = Pipeline()\n",
    "\n",
    "pp.add_component(\"issue_fetcher\", issue_fetcher)\n",
    "pp.add_component(\"issue_builder\", issue_builder)\n",
    "pp.add_component(\"agent\", agent)\n",
    "\n",
    "pp.connect(\"issue_fetcher.documents\", \"issue_builder.documents\")\n",
    "pp.connect(\"issue_builder.prompt\", \"agent.messages\")"
   ]
  },
  {
   "cell_type": "code",
   "execution_count": 12,
   "id": "961c6d248809c96",
   "metadata": {
    "ExecuteTime": {
     "end_time": "2025-01-24T17:08:17.406772Z",
     "start_time": "2025-01-24T17:06:52.725250Z"
    }
   },
   "outputs": [],
   "source": [
    "result = pp.run({\"url\": issue_url})"
   ]
  },
  {
   "cell_type": "code",
   "execution_count": 15,
   "id": "c61e726e2c7d2d17",
   "metadata": {
    "ExecuteTime": {
     "end_time": "2025-01-24T17:08:28.988975Z",
     "start_time": "2025-01-24T17:08:28.979012Z"
    }
   },
   "outputs": [
    {
     "data": {
      "text/markdown": [
       "I've reviewed the current implementation and agree that the serialization format should be improved. Here's a proposed solution:\n",
       "\n",
       "# Implementation Details\n",
       "\n",
       "The `to_dict` and `from_dict` methods should be updated to use clean keys in the serialized format while maintaining the internal implementation with underscores. Here's what the changes would look like:\n",
       "\n",
       "```python\n",
       "def to_dict(self) -> Dict[str, Any]:\n",
       "    serialized: Dict[str, Any] = {}\n",
       "    serialized[\"role\"] = self._role.value\n",
       "    serialized[\"meta\"] = self._meta\n",
       "    serialized[\"name\"] = self._name\n",
       "    content: List[Dict[str, Any]] = []\n",
       "    for part in self._content:\n",
       "        if isinstance(part, TextContent):\n",
       "            content.append({\"text\": part.text})\n",
       "        elif isinstance(part, ToolCall):\n",
       "            content.append({\"tool_call\": asdict(part)})\n",
       "        elif isinstance(part, ToolCallResult):\n",
       "            content.append({\"tool_call_result\": asdict(part)})\n",
       "        else:\n",
       "            raise TypeError(f\"Unsupported type in ChatMessage content: `{type(part).__name__}` for `{part}`.\")\n",
       "\n",
       "    serialized[\"content\"] = content\n",
       "    return serialized\n",
       "\n",
       "@classmethod\n",
       "def from_dict(cls, data: Dict[str, Any]) -> \"ChatMessage\":\n",
       "    # Convert external format to internal format\n",
       "    internal_data = {\n",
       "        \"_role\": ChatRole(data[\"role\"]),\n",
       "        \"_meta\": data.get(\"meta\", {}),\n",
       "        \"_name\": data.get(\"name\"),\n",
       "    }\n",
       "    \n",
       "    content: List[ChatMessageContentT] = []\n",
       "    for part in data[\"content\"]:\n",
       "        if \"text\" in part:\n",
       "            content.append(TextContent(text=part[\"text\"]))\n",
       "        elif \"tool_call\" in part:\n",
       "            content.append(ToolCall(**part[\"tool_call\"]))\n",
       "        elif \"tool_call_result\" in part:\n",
       "            result = part[\"tool_call_result\"][\"result\"]\n",
       "            origin = ToolCall(**part[\"tool_call_result\"][\"origin\"])\n",
       "            error = part[\"tool_call_result\"][\"error\"]\n",
       "            tcr = ToolCallResult(result=result, origin=origin, error=error)\n",
       "            content.append(tcr)\n",
       "        else:\n",
       "            raise ValueError(f\"Unsupported content in serialized ChatMessage: `{part}`\")\n",
       "\n",
       "    internal_data[\"_content\"] = content\n",
       "    return cls(**internal_data)\n",
       "```\n",
       "\n",
       "# Benefits\n",
       "\n",
       "1. Cleaner external API that doesn't expose implementation details\n",
       "2. Consistent with other serialization formats (like the OpenAI format)\n",
       "3. More intuitive for users working with serialized data\n",
       "4. Internal implementation remains unchanged\n",
       "\n",
       "# Breaking Changes\n",
       "\n",
       "This would be a breaking change for code that currently works with the serialized format. To minimize impact:\n",
       "\n",
       "1. Document the change clearly in release notes\n",
       "2. Consider adding a deprecation cycle with warnings for the old format\n",
       "3. Provide a migration guide:\n",
       "   ```python\n",
       "   # Before\n",
       "   {\"_role\": \"user\", \"_content\": [...], \"_meta\": {...}}\n",
       "   \n",
       "   # After\n",
       "   {\"role\": \"user\", \"content\": [...], \"meta\": {...}}\n",
       "   ```\n",
       "\n",
       "# Next Steps\n",
       "\n",
       "1. Implement the changes in a new PR\n",
       "2. Add tests for both the new format and backward compatibility (if we add a deprecation cycle)\n",
       "3. Update documentation to reflect the new serialization format\n",
       "4. Include migration instructions in the release notes\n",
       "\n",
       "Would you like me to create a PR with these changes?"
      ],
      "text/plain": [
       "<IPython.core.display.Markdown object>"
      ]
     },
     "metadata": {},
     "output_type": "display_data"
    }
   ],
   "source": [
    "from IPython.display import display, Markdown\n",
    "display(Markdown(result[\"agent\"][\"messages\"][-1].tool_call_result.result))"
   ]
  },
  {
   "cell_type": "code",
   "execution_count": 17,
   "id": "8778f7d378009251",
   "metadata": {
    "ExecuteTime": {
     "end_time": "2025-01-24T17:08:41.047780Z",
     "start_time": "2025-01-24T17:08:41.039101Z"
    }
   },
   "outputs": [
    {
     "name": "stdout",
     "output_type": "stream",
     "text": [
      "https://github.com/deepset-ai/haystack/tree/main/.github\n",
      "https://github.com/deepset-ai/haystack/tree/main/docker\n",
      "https://github.com/deepset-ai/haystack/tree/main/docs\n",
      "https://github.com/deepset-ai/haystack/tree/main/e2e\n",
      "https://github.com/deepset-ai/haystack/tree/main/examples\n",
      "https://github.com/deepset-ai/haystack/tree/main/haystack\n",
      "https://github.com/deepset-ai/haystack/tree/main/proposals\n",
      "https://github.com/deepset-ai/haystack/tree/main/releasenotes\n",
      "https://github.com/deepset-ai/haystack/tree/main/test\n",
      "https://github.com/deepset-ai/haystack/blob/main/.gitignore\n",
      "https://github.com/deepset-ai/haystack/blob/main/.pre-commit-config.yaml\n",
      "https://github.com/deepset-ai/haystack/blob/main/CITATION.cff\n",
      "https://github.com/deepset-ai/haystack/blob/main/code_of_conduct.txt\n",
      "https://github.com/deepset-ai/haystack/blob/main/CONTRIBUTING.md\n",
      "https://github.com/deepset-ai/haystack/blob/main/LICENSE\n",
      "https://github.com/deepset-ai/haystack/blob/main/license-header.txt\n",
      "https://github.com/deepset-ai/haystack/blob/main/licenserc.toml\n",
      "https://github.com/deepset-ai/haystack/blob/main/pyproject.toml\n",
      "https://github.com/deepset-ai/haystack/blob/main/README.md\n",
      "https://github.com/deepset-ai/haystack/blob/main/SECURITY.md\n",
      "https://github.com/deepset-ai/haystack/blob/main/tox.ini\n",
      "https://github.com/deepset-ai/haystack/blob/main/VERSION.txt\n",
      "https://github.com/deepset-ai/haystack/tree/main/haystack/components\n",
      "https://github.com/deepset-ai/haystack/tree/main/haystack/core\n",
      "https://github.com/deepset-ai/haystack/tree/main/haystack/data\n",
      "https://github.com/deepset-ai/haystack/tree/main/haystack/dataclasses\n",
      "https://github.com/deepset-ai/haystack/tree/main/haystack/document_stores\n",
      "https://github.com/deepset-ai/haystack/tree/main/haystack/evaluation\n",
      "https://github.com/deepset-ai/haystack/tree/main/haystack/marshal\n",
      "https://github.com/deepset-ai/haystack/tree/main/haystack/telemetry\n",
      "https://github.com/deepset-ai/haystack/tree/main/haystack/testing\n",
      "https://github.com/deepset-ai/haystack/tree/main/haystack/tools\n",
      "https://github.com/deepset-ai/haystack/tree/main/haystack/tracing\n",
      "https://github.com/deepset-ai/haystack/tree/main/haystack/utils\n",
      "https://github.com/deepset-ai/haystack/blob/main/haystack/__init__.py\n",
      "https://github.com/deepset-ai/haystack/blob/main/haystack/errors.py\n",
      "https://github.com/deepset-ai/haystack/blob/main/haystack/lazy_imports.py\n",
      "https://github.com/deepset-ai/haystack/blob/main/haystack/logging.py\n",
      "https://github.com/deepset-ai/haystack/blob/main/haystack/version.py\n",
      "https://github.com/deepset-ai/haystack/blob/main/haystack/dataclasses/__init__.py\n",
      "https://github.com/deepset-ai/haystack/blob/main/haystack/dataclasses/answer.py\n",
      "https://github.com/deepset-ai/haystack/blob/main/haystack/dataclasses/byte_stream.py\n",
      "https://github.com/deepset-ai/haystack/blob/main/haystack/dataclasses/chat_message.py\n",
      "https://github.com/deepset-ai/haystack/blob/main/haystack/dataclasses/document.py\n",
      "https://github.com/deepset-ai/haystack/blob/main/haystack/dataclasses/sparse_embedding.py\n",
      "https://github.com/deepset-ai/haystack/blob/main/haystack/dataclasses/streaming_chunk.py\n",
      "https://github.com/deepset-ai/haystack/blob/main/haystack/dataclasses/chat_message.py\n"
     ]
    }
   ],
   "source": [
    "for document in result[\"agent\"][\"documents\"]:\n",
    "    print(document.meta[\"url\"])"
   ]
  },
  {
   "cell_type": "code",
   "execution_count": null,
   "id": "6435353f22925580",
   "metadata": {},
   "outputs": [],
   "source": []
  }
 ],
 "metadata": {
  "kernelspec": {
   "display_name": "Python 3 (ipykernel)",
   "language": "python",
   "name": "python3"
  },
  "language_info": {
   "codemirror_mode": {
    "name": "ipython",
    "version": 3
   },
   "file_extension": ".py",
   "mimetype": "text/x-python",
   "name": "python",
   "nbconvert_exporter": "python",
   "pygments_lexer": "ipython3",
   "version": "3.13.1"
  }
 },
 "nbformat": 4,
 "nbformat_minor": 5
}
