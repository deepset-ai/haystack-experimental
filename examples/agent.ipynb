{
 "cells": [
  {
   "cell_type": "code",
   "id": "initial_id",
   "metadata": {
    "collapsed": true,
    "ExecuteTime": {
     "end_time": "2025-01-24T16:35:50.602107Z",
     "start_time": "2025-01-24T16:35:49.806712Z"
    }
   },
   "source": "!pip install anthropic-haystack",
   "outputs": [
    {
     "name": "stdout",
     "output_type": "stream",
     "text": [
      "Requirement already satisfied: anthropic-haystack in /Users/mathislucka/Library/Application Support/hatch/env/virtual/haystack-experimental/0WxCzKa9/haystack-experimental/lib/python3.13/site-packages (2.0.0)\r\n",
      "Requirement already satisfied: anthropic in /Users/mathislucka/Library/Application Support/hatch/env/virtual/haystack-experimental/0WxCzKa9/haystack-experimental/lib/python3.13/site-packages (from anthropic-haystack) (0.45.0)\r\n",
      "Requirement already satisfied: haystack-ai>=2.9.0 in /Users/mathislucka/Library/Application Support/hatch/env/virtual/haystack-experimental/0WxCzKa9/haystack-experimental/lib/python3.13/site-packages (from anthropic-haystack) (2.9.0)\r\n",
      "Requirement already satisfied: haystack-experimental in /Users/mathislucka/Library/Application Support/hatch/env/virtual/haystack-experimental/0WxCzKa9/haystack-experimental/lib/python3.13/site-packages (from haystack-ai>=2.9.0->anthropic-haystack) (0.4.1.dev6+g41903c1)\r\n",
      "Requirement already satisfied: jinja2 in /Users/mathislucka/Library/Application Support/hatch/env/virtual/haystack-experimental/0WxCzKa9/haystack-experimental/lib/python3.13/site-packages (from haystack-ai>=2.9.0->anthropic-haystack) (3.1.5)\r\n",
      "Requirement already satisfied: lazy-imports in /Users/mathislucka/Library/Application Support/hatch/env/virtual/haystack-experimental/0WxCzKa9/haystack-experimental/lib/python3.13/site-packages (from haystack-ai>=2.9.0->anthropic-haystack) (0.4.0)\r\n",
      "Requirement already satisfied: more-itertools in /Users/mathislucka/Library/Application Support/hatch/env/virtual/haystack-experimental/0WxCzKa9/haystack-experimental/lib/python3.13/site-packages (from haystack-ai>=2.9.0->anthropic-haystack) (10.5.0)\r\n",
      "Requirement already satisfied: networkx in /Users/mathislucka/Library/Application Support/hatch/env/virtual/haystack-experimental/0WxCzKa9/haystack-experimental/lib/python3.13/site-packages (from haystack-ai>=2.9.0->anthropic-haystack) (3.4.2)\r\n",
      "Requirement already satisfied: numpy in /Users/mathislucka/Library/Application Support/hatch/env/virtual/haystack-experimental/0WxCzKa9/haystack-experimental/lib/python3.13/site-packages (from haystack-ai>=2.9.0->anthropic-haystack) (2.2.1)\r\n",
      "Requirement already satisfied: openai>=1.56.1 in /Users/mathislucka/Library/Application Support/hatch/env/virtual/haystack-experimental/0WxCzKa9/haystack-experimental/lib/python3.13/site-packages (from haystack-ai>=2.9.0->anthropic-haystack) (1.59.6)\r\n",
      "Requirement already satisfied: pandas in /Users/mathislucka/Library/Application Support/hatch/env/virtual/haystack-experimental/0WxCzKa9/haystack-experimental/lib/python3.13/site-packages (from haystack-ai>=2.9.0->anthropic-haystack) (2.2.3)\r\n",
      "Requirement already satisfied: posthog in /Users/mathislucka/Library/Application Support/hatch/env/virtual/haystack-experimental/0WxCzKa9/haystack-experimental/lib/python3.13/site-packages (from haystack-ai>=2.9.0->anthropic-haystack) (3.7.5)\r\n",
      "Requirement already satisfied: pydantic in /Users/mathislucka/Library/Application Support/hatch/env/virtual/haystack-experimental/0WxCzKa9/haystack-experimental/lib/python3.13/site-packages (from haystack-ai>=2.9.0->anthropic-haystack) (2.10.5)\r\n",
      "Requirement already satisfied: python-dateutil in /Users/mathislucka/Library/Application Support/hatch/env/virtual/haystack-experimental/0WxCzKa9/haystack-experimental/lib/python3.13/site-packages (from haystack-ai>=2.9.0->anthropic-haystack) (2.9.0.post0)\r\n",
      "Requirement already satisfied: pyyaml in /Users/mathislucka/Library/Application Support/hatch/env/virtual/haystack-experimental/0WxCzKa9/haystack-experimental/lib/python3.13/site-packages (from haystack-ai>=2.9.0->anthropic-haystack) (6.0.2)\r\n",
      "Requirement already satisfied: requests in /Users/mathislucka/Library/Application Support/hatch/env/virtual/haystack-experimental/0WxCzKa9/haystack-experimental/lib/python3.13/site-packages (from haystack-ai>=2.9.0->anthropic-haystack) (2.32.3)\r\n",
      "Requirement already satisfied: tenacity!=8.4.0 in /Users/mathislucka/Library/Application Support/hatch/env/virtual/haystack-experimental/0WxCzKa9/haystack-experimental/lib/python3.13/site-packages (from haystack-ai>=2.9.0->anthropic-haystack) (9.0.0)\r\n",
      "Requirement already satisfied: tqdm in /Users/mathislucka/Library/Application Support/hatch/env/virtual/haystack-experimental/0WxCzKa9/haystack-experimental/lib/python3.13/site-packages (from haystack-ai>=2.9.0->anthropic-haystack) (4.67.1)\r\n",
      "Requirement already satisfied: typing-extensions>=4.7 in /Users/mathislucka/Library/Application Support/hatch/env/virtual/haystack-experimental/0WxCzKa9/haystack-experimental/lib/python3.13/site-packages (from haystack-ai>=2.9.0->anthropic-haystack) (4.12.2)\r\n",
      "Requirement already satisfied: anyio<5,>=3.5.0 in /Users/mathislucka/Library/Application Support/hatch/env/virtual/haystack-experimental/0WxCzKa9/haystack-experimental/lib/python3.13/site-packages (from anthropic->anthropic-haystack) (4.8.0)\r\n",
      "Requirement already satisfied: distro<2,>=1.7.0 in /Users/mathislucka/Library/Application Support/hatch/env/virtual/haystack-experimental/0WxCzKa9/haystack-experimental/lib/python3.13/site-packages (from anthropic->anthropic-haystack) (1.9.0)\r\n",
      "Requirement already satisfied: httpx<1,>=0.23.0 in /Users/mathislucka/Library/Application Support/hatch/env/virtual/haystack-experimental/0WxCzKa9/haystack-experimental/lib/python3.13/site-packages (from anthropic->anthropic-haystack) (0.28.1)\r\n",
      "Requirement already satisfied: jiter<1,>=0.4.0 in /Users/mathislucka/Library/Application Support/hatch/env/virtual/haystack-experimental/0WxCzKa9/haystack-experimental/lib/python3.13/site-packages (from anthropic->anthropic-haystack) (0.8.2)\r\n",
      "Requirement already satisfied: sniffio in /Users/mathislucka/Library/Application Support/hatch/env/virtual/haystack-experimental/0WxCzKa9/haystack-experimental/lib/python3.13/site-packages (from anthropic->anthropic-haystack) (1.3.1)\r\n",
      "Requirement already satisfied: idna>=2.8 in /Users/mathislucka/Library/Application Support/hatch/env/virtual/haystack-experimental/0WxCzKa9/haystack-experimental/lib/python3.13/site-packages (from anyio<5,>=3.5.0->anthropic->anthropic-haystack) (3.10)\r\n",
      "Requirement already satisfied: certifi in /Users/mathislucka/Library/Application Support/hatch/env/virtual/haystack-experimental/0WxCzKa9/haystack-experimental/lib/python3.13/site-packages (from httpx<1,>=0.23.0->anthropic->anthropic-haystack) (2024.12.14)\r\n",
      "Requirement already satisfied: httpcore==1.* in /Users/mathislucka/Library/Application Support/hatch/env/virtual/haystack-experimental/0WxCzKa9/haystack-experimental/lib/python3.13/site-packages (from httpx<1,>=0.23.0->anthropic->anthropic-haystack) (1.0.7)\r\n",
      "Requirement already satisfied: h11<0.15,>=0.13 in /Users/mathislucka/Library/Application Support/hatch/env/virtual/haystack-experimental/0WxCzKa9/haystack-experimental/lib/python3.13/site-packages (from httpcore==1.*->httpx<1,>=0.23.0->anthropic->anthropic-haystack) (0.14.0)\r\n",
      "Requirement already satisfied: annotated-types>=0.6.0 in /Users/mathislucka/Library/Application Support/hatch/env/virtual/haystack-experimental/0WxCzKa9/haystack-experimental/lib/python3.13/site-packages (from pydantic->haystack-ai>=2.9.0->anthropic-haystack) (0.7.0)\r\n",
      "Requirement already satisfied: pydantic-core==2.27.2 in /Users/mathislucka/Library/Application Support/hatch/env/virtual/haystack-experimental/0WxCzKa9/haystack-experimental/lib/python3.13/site-packages (from pydantic->haystack-ai>=2.9.0->anthropic-haystack) (2.27.2)\r\n",
      "Requirement already satisfied: MarkupSafe>=2.0 in /Users/mathislucka/Library/Application Support/hatch/env/virtual/haystack-experimental/0WxCzKa9/haystack-experimental/lib/python3.13/site-packages (from jinja2->haystack-ai>=2.9.0->anthropic-haystack) (3.0.2)\r\n",
      "Requirement already satisfied: pytz>=2020.1 in /Users/mathislucka/Library/Application Support/hatch/env/virtual/haystack-experimental/0WxCzKa9/haystack-experimental/lib/python3.13/site-packages (from pandas->haystack-ai>=2.9.0->anthropic-haystack) (2024.2)\r\n",
      "Requirement already satisfied: tzdata>=2022.7 in /Users/mathislucka/Library/Application Support/hatch/env/virtual/haystack-experimental/0WxCzKa9/haystack-experimental/lib/python3.13/site-packages (from pandas->haystack-ai>=2.9.0->anthropic-haystack) (2024.2)\r\n",
      "Requirement already satisfied: six>=1.5 in /Users/mathislucka/Library/Application Support/hatch/env/virtual/haystack-experimental/0WxCzKa9/haystack-experimental/lib/python3.13/site-packages (from python-dateutil->haystack-ai>=2.9.0->anthropic-haystack) (1.17.0)\r\n",
      "Requirement already satisfied: monotonic>=1.5 in /Users/mathislucka/Library/Application Support/hatch/env/virtual/haystack-experimental/0WxCzKa9/haystack-experimental/lib/python3.13/site-packages (from posthog->haystack-ai>=2.9.0->anthropic-haystack) (1.6)\r\n",
      "Requirement already satisfied: backoff>=1.10.0 in /Users/mathislucka/Library/Application Support/hatch/env/virtual/haystack-experimental/0WxCzKa9/haystack-experimental/lib/python3.13/site-packages (from posthog->haystack-ai>=2.9.0->anthropic-haystack) (2.2.1)\r\n",
      "Requirement already satisfied: charset-normalizer<4,>=2 in /Users/mathislucka/Library/Application Support/hatch/env/virtual/haystack-experimental/0WxCzKa9/haystack-experimental/lib/python3.13/site-packages (from requests->haystack-ai>=2.9.0->anthropic-haystack) (3.4.1)\r\n",
      "Requirement already satisfied: urllib3<3,>=1.21.1 in /Users/mathislucka/Library/Application Support/hatch/env/virtual/haystack-experimental/0WxCzKa9/haystack-experimental/lib/python3.13/site-packages (from requests->haystack-ai>=2.9.0->anthropic-haystack) (2.3.0)\r\n"
     ]
    }
   ],
   "execution_count": 1
  },
  {
   "metadata": {
    "ExecuteTime": {
     "end_time": "2025-01-24T16:35:52.341300Z",
     "start_time": "2025-01-24T16:35:50.927299Z"
    }
   },
   "cell_type": "code",
   "source": [
    "import os\n",
    "from getpass import getpass\n",
    "from typing import List\n",
    "\n",
    "from haystack_experimental.components.agents import Agent\n",
    "from haystack_experimental.components.tools.tool_context import ToolContext\n",
    "\n",
    "from haystack.tools import Tool, tool\n",
    "from haystack.dataclasses import ChatMessage, Document\n",
    "\n",
    "from github_components.repo_viewer import GithubRepositoryViewer"
   ],
   "id": "1ac0641a1523ba57",
   "outputs": [],
   "execution_count": 2
  },
  {
   "metadata": {
    "ExecuteTime": {
     "end_time": "2025-01-24T16:35:52.358316Z",
     "start_time": "2025-01-24T16:35:52.354700Z"
    }
   },
   "cell_type": "code",
   "source": "from agent_prompts import issue_prompt, repo_viewer_prompt, repo_viewer_schema",
   "id": "10dfea61ae6c2906",
   "outputs": [],
   "execution_count": 3
  },
  {
   "metadata": {
    "ExecuteTime": {
     "end_time": "2025-01-24T16:35:52.366522Z",
     "start_time": "2025-01-24T16:35:52.363437Z"
    }
   },
   "cell_type": "code",
   "source": [
    "def view_repository(ctx:  ToolContext, repo: str, path: str = \"\") -> str:\n",
    "    viewer = GithubRepositoryViewer(raise_on_failure=False)\n",
    "\n",
    "    result = viewer.run(path=path, repo=repo)\n",
    "\n",
    "    result_str = \"\"\n",
    "    for document in result[\"documents\"]:\n",
    "        if document.meta[\"type\"] in [\"file\", \"dir\", \"error\"]:\n",
    "            result_str += document.content + \"\\n\"\n",
    "        else:\n",
    "            result_str += f\"File Content for {document.meta['path']}\\n\\n\"\n",
    "            result_str += document.content\n",
    "\n",
    "    if len(result_str) > 150_000:\n",
    "        result_str = result_str[:150_000] + \"...(large file can't be fully displayed)\"\n",
    "\n",
    "    if output_docs := ctx.get_output(\"documents\"):\n",
    "        output_docs.extend(result[\"documents\"])\n",
    "        ctx.set_output(key=\"documents\", value=output_docs)\n",
    "    else:\n",
    "        ctx.set_output(key=\"documents\", value=result[\"documents\"])\n",
    "\n",
    "    return result_str"
   ],
   "id": "fd15936eb6849c53",
   "outputs": [],
   "execution_count": 4
  },
  {
   "metadata": {
    "ExecuteTime": {
     "end_time": "2025-01-24T16:35:53.061311Z",
     "start_time": "2025-01-24T16:35:53.058331Z"
    }
   },
   "cell_type": "code",
   "source": [
    "repo_viewer_tool = Tool(\n",
    "    name=\"view_repository\",\n",
    "    description=repo_viewer_prompt,\n",
    "    parameters=repo_viewer_schema,\n",
    "    function=view_repository,\n",
    ")"
   ],
   "id": "eb055b10c098b309",
   "outputs": [],
   "execution_count": 5
  },
  {
   "metadata": {
    "ExecuteTime": {
     "end_time": "2025-01-24T16:35:53.982757Z",
     "start_time": "2025-01-24T16:35:53.974730Z"
    }
   },
   "cell_type": "code",
   "source": [
    "@tool\n",
    "def create_comment(comment: str) -> str:\n",
    "    \"\"\"\n",
    "    Use this to create a Github comment once you finished your exploration.\n",
    "    \"\"\"\n",
    "    return comment\n"
   ],
   "id": "eb31fa163e7d5a11",
   "outputs": [],
   "execution_count": 6
  },
  {
   "metadata": {
    "ExecuteTime": {
     "end_time": "2025-01-24T16:37:53.076823Z",
     "start_time": "2025-01-24T16:37:50.766057Z"
    }
   },
   "cell_type": "code",
   "source": "os.environ[\"LLM_API_KEY\"] = getpass(\"Anthropic Key: \")",
   "id": "dd0aff035d9422d",
   "outputs": [],
   "execution_count": 11
  },
  {
   "metadata": {
    "ExecuteTime": {
     "end_time": "2025-01-24T16:37:54.118239Z",
     "start_time": "2025-01-24T16:37:54.090957Z"
    }
   },
   "cell_type": "code",
   "source": [
    "agent = Agent(\n",
    "    model=\"anthropic:claude-3-5-sonnet-latest\",\n",
    "    system_prompt=issue_prompt,\n",
    "    tools=[repo_viewer_tool, create_comment],\n",
    "    generation_kwargs={\"max_tokens\": 8000},\n",
    "    handoff=\"create_comment\",\n",
    "    output_variables={\"documents\": List[Document]}\n",
    ")"
   ],
   "id": "325806047f4835ec",
   "outputs": [],
   "execution_count": 12
  },
  {
   "metadata": {
    "ExecuteTime": {
     "end_time": "2025-01-24T16:37:54.911054Z",
     "start_time": "2025-01-24T16:37:54.908637Z"
    }
   },
   "cell_type": "code",
   "source": "issue_url = ChatMessage.from_user(\"https://github.com/deepset-ai/haystack/issues/8769\")",
   "id": "e6a11bf5b53fa4d",
   "outputs": [],
   "execution_count": 13
  },
  {
   "metadata": {
    "ExecuteTime": {
     "end_time": "2025-01-24T16:38:20.083520Z",
     "start_time": "2025-01-24T16:37:55.757487Z"
    }
   },
   "cell_type": "code",
   "source": "result = agent.run(messages=[issue_url])",
   "id": "961c6d248809c96",
   "outputs": [],
   "execution_count": 14
  },
  {
   "metadata": {
    "ExecuteTime": {
     "end_time": "2025-01-24T16:40:52.573011Z",
     "start_time": "2025-01-24T16:40:52.564687Z"
    }
   },
   "cell_type": "code",
   "source": [
    "from IPython.display import display, Markdown\n",
    "display(Markdown(result[\"messages\"][-1].tool_call_result.result))"
   ],
   "id": "c61e726e2c7d2d17",
   "outputs": [
    {
     "data": {
      "text/plain": [
       "<IPython.core.display.Markdown object>"
      ],
      "text/markdown": "Hi @deepansha16! 👋 \n\nYou raise a good point about the Python version compatibility between haystack and haystack-experimental. Let me explain why we have this difference:\n\n1. The main haystack package supports Python 3.8+ to maintain broader compatibility, especially for users who might be constrained to older Python versions.\n\n2. However, for haystack-experimental, we made a deliberate choice to require Python 3.9+ because:\n   - Python 3.9 introduced several important typing improvements that are particularly useful for experimental features where we want to leverage the latest type hints\n   - As an experimental package, we have more flexibility to require newer Python versions since it's not meant for production use\n   - This allows us to use modern Python features without needing to maintain compatibility with older versions\n\nWhile it would be technically possible to support Python 3.8 in haystack-experimental, this would require:\n- Additional compatibility code\n- More complex typing workarounds\n- Potentially giving up some modern Python features we're using in the experimental components\n\nGiven that Python 3.8 is approaching its end of life (scheduled for October 2024), we believe it's better to encourage users to move to newer Python versions, especially for experimental features.\n\nIf you're constrained to Python 3.8, I would recommend:\n1. Using only the main haystack package without the experimental features\n2. Or if possible, upgrading to Python 3.9+ to take advantage of the experimental components\n\nLet me know if you have any other questions!"
     },
     "metadata": {},
     "output_type": "display_data"
    }
   ],
   "execution_count": 22
  },
  {
   "metadata": {},
   "cell_type": "code",
   "outputs": [],
   "execution_count": null,
   "source": "",
   "id": "8778f7d378009251"
  }
 ],
 "metadata": {
  "kernelspec": {
   "display_name": "Python 3",
   "language": "python",
   "name": "python3"
  },
  "language_info": {
   "codemirror_mode": {
    "name": "ipython",
    "version": 2
   },
   "file_extension": ".py",
   "mimetype": "text/x-python",
   "name": "python",
   "nbconvert_exporter": "python",
   "pygments_lexer": "ipython2",
   "version": "2.7.6"
  }
 },
 "nbformat": 4,
 "nbformat_minor": 5
}
