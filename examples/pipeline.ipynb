{
  "nbformat": 4,
  "nbformat_minor": 0,
  "metadata": {
    "colab": {
      "provenance": []
    },
    "kernelspec": {
      "name": "python3",
      "display_name": "Python 3"
    },
    "language_info": {
      "name": "python"
    }
  },
  "cells": [
    {
      "cell_type": "code",
      "source": [
        "!pip install haystack-ai\n"
      ],
      "metadata": {
        "id": "kHJLbDvNWSSy"
      },
      "execution_count": null,
      "outputs": []
    },
    {
      "cell_type": "code",
      "execution_count": null,
      "metadata": {
        "id": "MnJ1NIDRWNHl"
      },
      "outputs": [],
      "source": [
        "import os\n",
        "from getpass import getpass\n",
        "\n",
        "from haystack_experimental import Pipeline\n",
        "from haystack.components.builders import ChatPromptBuilder\n",
        "from haystack.components.generators.chat import OpenAIChatGenerator\n",
        "from haystack.dataclasses import ChatMessage\n",
        "\n",
        "if \"OPENAI_API_KEY\" not in os.environ:\n",
        "    os.environ[\"OPENAI_API_KEY\"] = getpass(\"Enter OpenAI API key:\")\n",
        "\n",
        "prompt_builder = ChatPromptBuilder()\n",
        "llm = OpenAIChatGenerator(model=\"gpt-4o-mini\")\n",
        "\n",
        "pipe = Pipeline()\n",
        "pipe.add_component(\"prompt_builder\", prompt_builder)\n",
        "pipe.add_component(\"llm\", llm)\n",
        "pipe.connect(\"prompt_builder.prompt\", \"llm.messages\")\n",
        "location = \"Berlin\"\n",
        "messages = [ChatMessage.from_system(\"Always respond in English even if some input data is in other languages and be brief.\"),\n",
        "            ChatMessage.from_user(\"Erzähl mir etwas über {{location}}\")]\n",
        "pipe.run(data={\"prompt_builder\": {\"template_variables\":{\"location\": location}, \"template\": messages}})\n"
      ]
    }
  ]
}
