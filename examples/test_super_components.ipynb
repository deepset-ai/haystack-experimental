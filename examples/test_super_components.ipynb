{
 "cells": [
  {
   "cell_type": "code",
   "metadata": {
    "ExecuteTime": {
     "end_time": "2025-01-24T09:39:15.167853Z",
     "start_time": "2025-01-24T09:39:14.388036Z"
    }
   },
   "source": [
    "!pip install python-docx trafilatura markdown-it-py mdit_plain pypdf python-pptx openpyxl nltk"
   ],
   "outputs": [
    {
     "name": "stdout",
     "output_type": "stream",
     "text": [
      "Requirement already satisfied: python-docx in /Users/mathislucka/Library/Application Support/hatch/env/virtual/haystack-experimental/0WxCzKa9/haystack-experimental/lib/python3.13/site-packages (1.1.2)\r\n",
      "Requirement already satisfied: trafilatura in /Users/mathislucka/Library/Application Support/hatch/env/virtual/haystack-experimental/0WxCzKa9/haystack-experimental/lib/python3.13/site-packages (2.0.0)\r\n",
      "Requirement already satisfied: markdown-it-py in /Users/mathislucka/Library/Application Support/hatch/env/virtual/haystack-experimental/0WxCzKa9/haystack-experimental/lib/python3.13/site-packages (3.0.0)\r\n",
      "Requirement already satisfied: mdit_plain in /Users/mathislucka/Library/Application Support/hatch/env/virtual/haystack-experimental/0WxCzKa9/haystack-experimental/lib/python3.13/site-packages (1.0.1)\r\n",
      "Requirement already satisfied: pypdf in /Users/mathislucka/Library/Application Support/hatch/env/virtual/haystack-experimental/0WxCzKa9/haystack-experimental/lib/python3.13/site-packages (5.1.0)\r\n",
      "Requirement already satisfied: python-pptx in /Users/mathislucka/Library/Application Support/hatch/env/virtual/haystack-experimental/0WxCzKa9/haystack-experimental/lib/python3.13/site-packages (1.0.2)\r\n",
      "Requirement already satisfied: openpyxl in /Users/mathislucka/Library/Application Support/hatch/env/virtual/haystack-experimental/0WxCzKa9/haystack-experimental/lib/python3.13/site-packages (3.1.5)\r\n",
      "Requirement already satisfied: nltk in /Users/mathislucka/Library/Application Support/hatch/env/virtual/haystack-experimental/0WxCzKa9/haystack-experimental/lib/python3.13/site-packages (3.9.1)\r\n",
      "Requirement already satisfied: lxml>=3.1.0 in /Users/mathislucka/Library/Application Support/hatch/env/virtual/haystack-experimental/0WxCzKa9/haystack-experimental/lib/python3.13/site-packages (from python-docx) (5.3.0)\r\n",
      "Requirement already satisfied: typing-extensions>=4.9.0 in /Users/mathislucka/Library/Application Support/hatch/env/virtual/haystack-experimental/0WxCzKa9/haystack-experimental/lib/python3.13/site-packages (from python-docx) (4.12.2)\r\n",
      "Requirement already satisfied: certifi in /Users/mathislucka/Library/Application Support/hatch/env/virtual/haystack-experimental/0WxCzKa9/haystack-experimental/lib/python3.13/site-packages (from trafilatura) (2024.12.14)\r\n",
      "Requirement already satisfied: charset_normalizer>=3.4.0 in /Users/mathislucka/Library/Application Support/hatch/env/virtual/haystack-experimental/0WxCzKa9/haystack-experimental/lib/python3.13/site-packages (from trafilatura) (3.4.1)\r\n",
      "Requirement already satisfied: courlan>=1.3.2 in /Users/mathislucka/Library/Application Support/hatch/env/virtual/haystack-experimental/0WxCzKa9/haystack-experimental/lib/python3.13/site-packages (from trafilatura) (1.3.2)\r\n",
      "Requirement already satisfied: htmldate>=1.9.2 in /Users/mathislucka/Library/Application Support/hatch/env/virtual/haystack-experimental/0WxCzKa9/haystack-experimental/lib/python3.13/site-packages (from trafilatura) (1.9.3)\r\n",
      "Requirement already satisfied: justext>=3.0.1 in /Users/mathislucka/Library/Application Support/hatch/env/virtual/haystack-experimental/0WxCzKa9/haystack-experimental/lib/python3.13/site-packages (from trafilatura) (3.0.1)\r\n",
      "Requirement already satisfied: urllib3<3,>=1.26 in /Users/mathislucka/Library/Application Support/hatch/env/virtual/haystack-experimental/0WxCzKa9/haystack-experimental/lib/python3.13/site-packages (from trafilatura) (2.3.0)\r\n",
      "Requirement already satisfied: mdurl~=0.1 in /Users/mathislucka/Library/Application Support/hatch/env/virtual/haystack-experimental/0WxCzKa9/haystack-experimental/lib/python3.13/site-packages (from markdown-it-py) (0.1.2)\r\n",
      "Requirement already satisfied: Pillow>=3.3.2 in /Users/mathislucka/Library/Application Support/hatch/env/virtual/haystack-experimental/0WxCzKa9/haystack-experimental/lib/python3.13/site-packages (from python-pptx) (11.1.0)\r\n",
      "Requirement already satisfied: XlsxWriter>=0.5.7 in /Users/mathislucka/Library/Application Support/hatch/env/virtual/haystack-experimental/0WxCzKa9/haystack-experimental/lib/python3.13/site-packages (from python-pptx) (3.2.1)\r\n",
      "Requirement already satisfied: et-xmlfile in /Users/mathislucka/Library/Application Support/hatch/env/virtual/haystack-experimental/0WxCzKa9/haystack-experimental/lib/python3.13/site-packages (from openpyxl) (2.0.0)\r\n",
      "Requirement already satisfied: click in /Users/mathislucka/Library/Application Support/hatch/env/virtual/haystack-experimental/0WxCzKa9/haystack-experimental/lib/python3.13/site-packages (from nltk) (8.1.8)\r\n",
      "Requirement already satisfied: joblib in /Users/mathislucka/Library/Application Support/hatch/env/virtual/haystack-experimental/0WxCzKa9/haystack-experimental/lib/python3.13/site-packages (from nltk) (1.4.2)\r\n",
      "Requirement already satisfied: regex>=2021.8.3 in /Users/mathislucka/Library/Application Support/hatch/env/virtual/haystack-experimental/0WxCzKa9/haystack-experimental/lib/python3.13/site-packages (from nltk) (2024.11.6)\r\n",
      "Requirement already satisfied: tqdm in /Users/mathislucka/Library/Application Support/hatch/env/virtual/haystack-experimental/0WxCzKa9/haystack-experimental/lib/python3.13/site-packages (from nltk) (4.67.1)\r\n",
      "Requirement already satisfied: babel>=2.16.0 in /Users/mathislucka/Library/Application Support/hatch/env/virtual/haystack-experimental/0WxCzKa9/haystack-experimental/lib/python3.13/site-packages (from courlan>=1.3.2->trafilatura) (2.16.0)\r\n",
      "Requirement already satisfied: tld>=0.13 in /Users/mathislucka/Library/Application Support/hatch/env/virtual/haystack-experimental/0WxCzKa9/haystack-experimental/lib/python3.13/site-packages (from courlan>=1.3.2->trafilatura) (0.13)\r\n",
      "Requirement already satisfied: dateparser>=1.1.2 in /Users/mathislucka/Library/Application Support/hatch/env/virtual/haystack-experimental/0WxCzKa9/haystack-experimental/lib/python3.13/site-packages (from htmldate>=1.9.2->trafilatura) (1.2.0)\r\n",
      "Requirement already satisfied: python-dateutil>=2.9.0.post0 in /Users/mathislucka/Library/Application Support/hatch/env/virtual/haystack-experimental/0WxCzKa9/haystack-experimental/lib/python3.13/site-packages (from htmldate>=1.9.2->trafilatura) (2.9.0.post0)\r\n",
      "Requirement already satisfied: pytz in /Users/mathislucka/Library/Application Support/hatch/env/virtual/haystack-experimental/0WxCzKa9/haystack-experimental/lib/python3.13/site-packages (from dateparser>=1.1.2->htmldate>=1.9.2->trafilatura) (2024.2)\r\n",
      "Requirement already satisfied: tzlocal in /Users/mathislucka/Library/Application Support/hatch/env/virtual/haystack-experimental/0WxCzKa9/haystack-experimental/lib/python3.13/site-packages (from dateparser>=1.1.2->htmldate>=1.9.2->trafilatura) (5.2)\r\n",
      "Requirement already satisfied: lxml-html-clean in /Users/mathislucka/Library/Application Support/hatch/env/virtual/haystack-experimental/0WxCzKa9/haystack-experimental/lib/python3.13/site-packages (from lxml[html_clean]>=4.4.2->justext>=3.0.1->trafilatura) (0.4.1)\r\n",
      "Requirement already satisfied: six>=1.5 in /Users/mathislucka/Library/Application Support/hatch/env/virtual/haystack-experimental/0WxCzKa9/haystack-experimental/lib/python3.13/site-packages (from python-dateutil>=2.9.0.post0->htmldate>=1.9.2->trafilatura) (1.17.0)\r\n"
     ]
    }
   ],
   "execution_count": 1
  },
  {
   "cell_type": "markdown",
   "metadata": {},
   "source": [
    "# SuperComponents\n",
    "\n",
    "Supercomponents in general behave like any other component. They have init params, optional from_dict() and to_dict() methods as usual. The init params typically determine how the internal pipeline is constructed (e.g. which components are used)."
   ]
  },
  {
   "cell_type": "code",
   "metadata": {
    "ExecuteTime": {
     "end_time": "2025-01-24T09:39:16.765885Z",
     "start_time": "2025-01-24T09:39:15.771657Z"
    }
   },
   "source": "from haystack_experimental.super_components.converters import AutoFileConverter",
   "outputs": [],
   "execution_count": 2
  },
  {
   "cell_type": "code",
   "metadata": {
    "ExecuteTime": {
     "end_time": "2025-01-24T09:39:17.307044Z",
     "start_time": "2025-01-24T09:39:17.301367Z"
    }
   },
   "source": "file_converter = AutoFileConverter()",
   "outputs": [],
   "execution_count": 3
  },
  {
   "cell_type": "code",
   "metadata": {
    "ExecuteTime": {
     "end_time": "2025-01-24T09:39:18.254165Z",
     "start_time": "2025-01-24T09:39:18.248837Z"
    }
   },
   "source": "file_converter.to_dict()",
   "outputs": [
    {
     "data": {
      "text/plain": [
       "{'type': 'haystack_experimental.super_components.converters.file_converter.AutoFileConverter',\n",
       " 'init_parameters': {'split_by': 'word',\n",
       "  'split_length': 250,\n",
       "  'split_overlap': 30,\n",
       "  'split_threshold': 0,\n",
       "  'splitting_function': None,\n",
       "  'respect_sentence_boundary': True,\n",
       "  'language': 'en',\n",
       "  'use_split_rules': True,\n",
       "  'extend_abbreviations': True,\n",
       "  'encoding': 'utf-8',\n",
       "  'json_content_key': 'content'}}"
      ]
     },
     "execution_count": 4,
     "metadata": {},
     "output_type": "execute_result"
    }
   ],
   "execution_count": 4
  },
  {
   "cell_type": "markdown",
   "metadata": {},
   "source": [
    "## Expanding SuperComponents\n",
    "What makes SuperComponents special is the ability to expand it by calling their `to_super_component_dict()` method. This converts the component to a generic `SuperComponent` that contains the pipeline constructed by the SuperComponent. From there on the pipeline can be changed in any way."
   ]
  },
  {
   "cell_type": "code",
   "metadata": {
    "ExecuteTime": {
     "end_time": "2025-01-24T09:40:13.086160Z",
     "start_time": "2025-01-24T09:40:13.076415Z"
    }
   },
   "source": "file_converter.to_super_component_dict()",
   "outputs": [
    {
     "data": {
      "text/plain": [
       "{'type': 'haystack_experimental.core.super_component.super_component.SuperComponent',\n",
       " 'init_parameters': {'pipeline': {'metadata': {},\n",
       "   'max_runs_per_component': 100,\n",
       "   'components': {'router': {'type': 'haystack.components.routers.file_type_router.FileTypeRouter',\n",
       "     'init_parameters': {'mime_types': [<ConverterMimeType.CSV: 'text/csv'>,\n",
       "       <ConverterMimeType.DOCX: 'application/vnd.openxmlformats-officedocument.wordprocessingml.document'>,\n",
       "       <ConverterMimeType.HTML: 'text/html'>,\n",
       "       <ConverterMimeType.JSON: 'application/json'>,\n",
       "       <ConverterMimeType.MD: 'text/markdown'>,\n",
       "       <ConverterMimeType.TEXT: 'text/plain'>,\n",
       "       <ConverterMimeType.PDF: 'application/pdf'>,\n",
       "       <ConverterMimeType.PPTX: 'application/vnd.openxmlformats-officedocument.presentationml.presentation'>,\n",
       "       <ConverterMimeType.XLSX: 'application/vnd.openxmlformats-officedocument.spreadsheetml.sheet'>],\n",
       "      'additional_mimetypes': None}},\n",
       "    'csv': {'type': 'haystack.components.converters.csv.CSVToDocument',\n",
       "     'init_parameters': {'encoding': 'utf-8', 'store_full_path': False}},\n",
       "    'docx': {'type': 'haystack.components.converters.docx.DOCXToDocument',\n",
       "     'init_parameters': {'table_format': 'csv', 'store_full_path': False}},\n",
       "    'html': {'type': 'haystack.components.converters.html.HTMLToDocument',\n",
       "     'init_parameters': {'extraction_kwargs': {}, 'store_full_path': False}},\n",
       "    'json': {'type': 'haystack.components.converters.json.JSONConverter',\n",
       "     'init_parameters': {'jq_schema': None,\n",
       "      'content_key': 'content',\n",
       "      'extra_meta_fields': None,\n",
       "      'store_full_path': False}},\n",
       "    'md': {'type': 'haystack.components.converters.markdown.MarkdownToDocument',\n",
       "     'init_parameters': {'table_to_single_line': False,\n",
       "      'progress_bar': True,\n",
       "      'store_full_path': False}},\n",
       "    'txt': {'type': 'haystack.components.converters.txt.TextFileToDocument',\n",
       "     'init_parameters': {'encoding': 'utf-8', 'store_full_path': False}},\n",
       "    'pdf': {'type': 'haystack.components.converters.pypdf.PyPDFToDocument',\n",
       "     'init_parameters': {'extraction_mode': 'plain',\n",
       "      'plain_mode_orientations': (0, 90, 180, 270),\n",
       "      'plain_mode_space_width': 200.0,\n",
       "      'layout_mode_space_vertically': True,\n",
       "      'layout_mode_scale_weight': 1.25,\n",
       "      'layout_mode_strip_rotated': True,\n",
       "      'layout_mode_font_height_weight': 1.0,\n",
       "      'store_full_path': False}},\n",
       "    'pptx': {'type': 'haystack.components.converters.pptx.PPTXToDocument',\n",
       "     'init_parameters': {'store_full_path': False}},\n",
       "    'xlsx': {'type': 'haystack.components.converters.xlsx.XLSXToDocument',\n",
       "     'init_parameters': {'table_format': 'csv',\n",
       "      'sheet_name': None,\n",
       "      'read_excel_kwargs': {},\n",
       "      'table_format_kwargs': {}}},\n",
       "    'joiner': {'type': 'haystack.components.joiners.document_joiner.DocumentJoiner',\n",
       "     'init_parameters': {'join_mode': 'concatenate',\n",
       "      'weights': None,\n",
       "      'top_k': None,\n",
       "      'sort_by_score': True}},\n",
       "    'tabular_joiner': {'type': 'haystack.components.joiners.document_joiner.DocumentJoiner',\n",
       "     'init_parameters': {'join_mode': 'concatenate',\n",
       "      'weights': None,\n",
       "      'top_k': None,\n",
       "      'sort_by_score': True}},\n",
       "    'splitter': {'type': 'haystack.components.preprocessors.document_splitter.DocumentSplitter',\n",
       "     'init_parameters': {'split_by': 'word',\n",
       "      'split_length': 250,\n",
       "      'split_overlap': 30,\n",
       "      'split_threshold': 0,\n",
       "      'respect_sentence_boundary': True,\n",
       "      'language': 'en',\n",
       "      'use_split_rules': True,\n",
       "      'extend_abbreviations': True}}},\n",
       "   'connections': [{'sender': 'router.text/csv', 'receiver': 'csv.sources'},\n",
       "    {'sender': 'router.application/vnd.openxmlformats-officedocument.wordprocessingml.document',\n",
       "     'receiver': 'docx.sources'},\n",
       "    {'sender': 'router.text/html', 'receiver': 'html.sources'},\n",
       "    {'sender': 'router.application/json', 'receiver': 'json.sources'},\n",
       "    {'sender': 'router.text/markdown', 'receiver': 'md.sources'},\n",
       "    {'sender': 'router.text/plain', 'receiver': 'txt.sources'},\n",
       "    {'sender': 'router.application/pdf', 'receiver': 'pdf.sources'},\n",
       "    {'sender': 'router.application/vnd.openxmlformats-officedocument.presentationml.presentation',\n",
       "     'receiver': 'pptx.sources'},\n",
       "    {'sender': 'router.application/vnd.openxmlformats-officedocument.spreadsheetml.sheet',\n",
       "     'receiver': 'xlsx.sources'},\n",
       "    {'sender': 'csv.documents', 'receiver': 'tabular_joiner.documents'},\n",
       "    {'sender': 'docx.documents', 'receiver': 'joiner.documents'},\n",
       "    {'sender': 'html.documents', 'receiver': 'joiner.documents'},\n",
       "    {'sender': 'json.documents', 'receiver': 'joiner.documents'},\n",
       "    {'sender': 'md.documents', 'receiver': 'joiner.documents'},\n",
       "    {'sender': 'txt.documents', 'receiver': 'joiner.documents'},\n",
       "    {'sender': 'pdf.documents', 'receiver': 'joiner.documents'},\n",
       "    {'sender': 'pptx.documents', 'receiver': 'joiner.documents'},\n",
       "    {'sender': 'xlsx.documents', 'receiver': 'tabular_joiner.documents'},\n",
       "    {'sender': 'joiner.documents', 'receiver': 'splitter.documents'},\n",
       "    {'sender': 'splitter.documents', 'receiver': 'tabular_joiner.documents'}]},\n",
       "  'input_mapping': {'sources': ['router.sources'], 'meta': ['router.meta']},\n",
       "  'output_mapping': {'tabular_joiner.documents': 'documents'}}}"
      ]
     },
     "execution_count": 5,
     "metadata": {},
     "output_type": "execute_result"
    }
   ],
   "execution_count": 5
  },
  {
   "cell_type": "code",
   "metadata": {
    "ExecuteTime": {
     "end_time": "2025-01-24T09:43:15.341578Z",
     "start_time": "2025-01-24T09:43:15.329897Z"
    }
   },
   "source": [
    "from haystack_experimental.core.super_component import SuperComponent\n",
    "\n",
    "super_file_converter = SuperComponent.from_dict(file_converter.to_super_component_dict())"
   ],
   "outputs": [],
   "execution_count": 8
  },
  {
   "cell_type": "code",
   "execution_count": null,
   "metadata": {},
   "outputs": [],
   "source": []
  }
 ],
 "metadata": {
  "kernelspec": {
   "display_name": ".venv",
   "language": "python",
   "name": "python3"
  },
  "language_info": {
   "codemirror_mode": {
    "name": "ipython",
    "version": 3
   },
   "file_extension": ".py",
   "mimetype": "text/x-python",
   "name": "python",
   "nbconvert_exporter": "python",
   "pygments_lexer": "ipython3",
   "version": "3.13.1"
  }
 },
 "nbformat": 4,
 "nbformat_minor": 2
}
