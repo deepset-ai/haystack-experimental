{
 "cells": [
  {
   "cell_type": "code",
   "execution_count": null,
   "metadata": {},
   "outputs": [],
   "source": [
    "!pip install python-docx trafilatura markdown-it-py mdit_plain pypdf python-pptx openpyxl nltk"
   ]
  },
  {
   "cell_type": "markdown",
   "metadata": {},
   "source": [
    "# SuperComponents\n",
    "\n",
    "Supercomponents in general behave like any other component. They have init params, from_dict() and to_dict() methods as usual. The init params typically determine how the internal pipeline is constructed (e.g. which components are used)."
   ]
  },
  {
   "cell_type": "code",
   "execution_count": 1,
   "metadata": {},
   "outputs": [],
   "source": [
    "from haystack_experimental.super_components.converters.file_converter import MultiFileConverter"
   ]
  },
  {
   "cell_type": "code",
   "execution_count": 2,
   "metadata": {},
   "outputs": [],
   "source": [
    "sc = MultiFileConverter()"
   ]
  },
  {
   "cell_type": "code",
   "execution_count": 3,
   "metadata": {},
   "outputs": [
    {
     "data": {
      "text/plain": [
       "{'type': 'haystack_experimental.super_components.converters.file_converter.MultiFileConverter',\n",
       " 'init_parameters': {'mime_types': None,\n",
       "  'split_by': 'word',\n",
       "  'split_length': 250,\n",
       "  'split_overlap': 30,\n",
       "  'split_threshold': 0,\n",
       "  'splitting_function': None,\n",
       "  'respect_sentence_boundary': True,\n",
       "  'language': 'en',\n",
       "  'use_split_rules': True,\n",
       "  'extend_abbreviations': True,\n",
       "  'encoding': 'utf-8',\n",
       "  'json_content_key': 'content'}}"
      ]
     },
     "execution_count": 3,
     "metadata": {},
     "output_type": "execute_result"
    }
   ],
   "source": [
    "sc.to_dict()"
   ]
  },
  {
   "cell_type": "markdown",
   "metadata": {},
   "source": [
    "## Expanding SuperComponents (converting to PipelineWrapper)\n",
    "What makes SuperComponents special is the ability to expand it by calling their `to_pipeline_wrapper_dict()` method. This converts the component to a generic `PipelineWrapper` that contains the pipeline constructed by the SuperComponent. From there on the pipeline can be changed in any way."
   ]
  },
  {
   "cell_type": "code",
   "execution_count": 4,
   "metadata": {},
   "outputs": [
    {
     "data": {
      "text/plain": [
       "{'type': 'haystack_experimental.components.wrappers.pipeline_wrapper.PipelineWrapper',\n",
       " 'init_parameters': {'pipeline': {'metadata': {},\n",
       "   'max_runs_per_component': 100,\n",
       "   'components': {'CSVToDocument': {'type': 'haystack.components.converters.csv.CSVToDocument',\n",
       "     'init_parameters': {'encoding': 'utf-8', 'store_full_path': False}},\n",
       "    'DOCXToDocument': {'type': 'haystack.components.converters.docx.DOCXToDocument',\n",
       "     'init_parameters': {'table_format': 'csv', 'store_full_path': False}},\n",
       "    'HTMLToDocument': {'type': 'haystack.components.converters.html.HTMLToDocument',\n",
       "     'init_parameters': {'extraction_kwargs': {}, 'store_full_path': False}},\n",
       "    'JSONConverter': {'type': 'haystack.components.converters.json.JSONConverter',\n",
       "     'init_parameters': {'jq_schema': None,\n",
       "      'content_key': 'content',\n",
       "      'extra_meta_fields': None,\n",
       "      'store_full_path': False}},\n",
       "    'MarkdownToDocument': {'type': 'haystack.components.converters.markdown.MarkdownToDocument',\n",
       "     'init_parameters': {'table_to_single_line': False,\n",
       "      'progress_bar': True,\n",
       "      'store_full_path': False}},\n",
       "    'TextFileToDocument': {'type': 'haystack.components.converters.txt.TextFileToDocument',\n",
       "     'init_parameters': {'encoding': 'utf-8', 'store_full_path': False}},\n",
       "    'PyPDFToDocument': {'type': 'haystack.components.converters.pypdf.PyPDFToDocument',\n",
       "     'init_parameters': {'extraction_mode': 'plain',\n",
       "      'plain_mode_orientations': (0, 90, 180, 270),\n",
       "      'plain_mode_space_width': 200.0,\n",
       "      'layout_mode_space_vertically': True,\n",
       "      'layout_mode_scale_weight': 1.25,\n",
       "      'layout_mode_strip_rotated': True,\n",
       "      'layout_mode_font_height_weight': 1.0,\n",
       "      'store_full_path': False}},\n",
       "    'PPTXToDocument': {'type': 'haystack.components.converters.pptx.PPTXToDocument',\n",
       "     'init_parameters': {'store_full_path': False}},\n",
       "    'XLSXToDocument': {'type': 'haystack.components.converters.xlsx.XLSXToDocument',\n",
       "     'init_parameters': {'table_format': 'csv',\n",
       "      'sheet_name': None,\n",
       "      'read_excel_kwargs': {},\n",
       "      'table_format_kwargs': {}}},\n",
       "    'router': {'type': 'haystack.components.routers.file_type_router.FileTypeRouter',\n",
       "     'init_parameters': {'mime_types': [<ConverterMimeType.CSV: 'text/csv'>,\n",
       "       <ConverterMimeType.DOCX: 'application/vnd.openxmlformats-officedocument.wordprocessingml.document'>,\n",
       "       <ConverterMimeType.HTML: 'text/html'>,\n",
       "       <ConverterMimeType.JSON: 'application/json'>,\n",
       "       <ConverterMimeType.MD: 'text/markdown'>,\n",
       "       <ConverterMimeType.TEXT: 'text/plain'>,\n",
       "       <ConverterMimeType.PDF: 'application/pdf'>,\n",
       "       <ConverterMimeType.PPTX: 'application/vnd.openxmlformats-officedocument.presentationml.presentation'>,\n",
       "       <ConverterMimeType.XLSX: 'application/vnd.openxmlformats-officedocument.spreadsheetml.sheet'>],\n",
       "      'additional_mimetypes': None}},\n",
       "    'joiner': {'type': 'haystack.components.joiners.document_joiner.DocumentJoiner',\n",
       "     'init_parameters': {'join_mode': 'concatenate',\n",
       "      'weights': None,\n",
       "      'top_k': None,\n",
       "      'sort_by_score': True}},\n",
       "    'tabular_joiner': {'type': 'haystack.components.joiners.document_joiner.DocumentJoiner',\n",
       "     'init_parameters': {'join_mode': 'concatenate',\n",
       "      'weights': None,\n",
       "      'top_k': None,\n",
       "      'sort_by_score': True}},\n",
       "    'splitter': {'type': 'haystack.components.preprocessors.document_splitter.DocumentSplitter',\n",
       "     'init_parameters': {'split_by': 'word',\n",
       "      'split_length': 250,\n",
       "      'split_overlap': 30,\n",
       "      'split_threshold': 0,\n",
       "      'respect_sentence_boundary': True,\n",
       "      'language': 'en',\n",
       "      'use_split_rules': True,\n",
       "      'extend_abbreviations': True}}},\n",
       "   'connections': [{'sender': 'CSVToDocument.documents',\n",
       "     'receiver': 'joiner.documents'},\n",
       "    {'sender': 'DOCXToDocument.documents',\n",
       "     'receiver': 'tabular_joiner.documents'},\n",
       "    {'sender': 'HTMLToDocument.documents',\n",
       "     'receiver': 'tabular_joiner.documents'},\n",
       "    {'sender': 'JSONConverter.documents',\n",
       "     'receiver': 'tabular_joiner.documents'},\n",
       "    {'sender': 'MarkdownToDocument.documents',\n",
       "     'receiver': 'tabular_joiner.documents'},\n",
       "    {'sender': 'TextFileToDocument.documents',\n",
       "     'receiver': 'tabular_joiner.documents'},\n",
       "    {'sender': 'PyPDFToDocument.documents',\n",
       "     'receiver': 'tabular_joiner.documents'},\n",
       "    {'sender': 'PPTXToDocument.documents',\n",
       "     'receiver': 'tabular_joiner.documents'},\n",
       "    {'sender': 'XLSXToDocument.documents', 'receiver': 'joiner.documents'},\n",
       "    {'sender': 'router.text/csv', 'receiver': 'CSVToDocument.sources'},\n",
       "    {'sender': 'router.application/vnd.openxmlformats-officedocument.wordprocessingml.document',\n",
       "     'receiver': 'DOCXToDocument.sources'},\n",
       "    {'sender': 'router.text/html', 'receiver': 'HTMLToDocument.sources'},\n",
       "    {'sender': 'router.application/json', 'receiver': 'JSONConverter.sources'},\n",
       "    {'sender': 'router.text/markdown',\n",
       "     'receiver': 'MarkdownToDocument.sources'},\n",
       "    {'sender': 'router.text/plain', 'receiver': 'TextFileToDocument.sources'},\n",
       "    {'sender': 'router.application/pdf',\n",
       "     'receiver': 'PyPDFToDocument.sources'},\n",
       "    {'sender': 'router.application/vnd.openxmlformats-officedocument.presentationml.presentation',\n",
       "     'receiver': 'PPTXToDocument.sources'},\n",
       "    {'sender': 'router.application/vnd.openxmlformats-officedocument.spreadsheetml.sheet',\n",
       "     'receiver': 'XLSXToDocument.sources'},\n",
       "    {'sender': 'joiner.documents', 'receiver': 'splitter.documents'},\n",
       "    {'sender': 'splitter.documents', 'receiver': 'tabular_joiner.documents'}]},\n",
       "  'input_mapping': None,\n",
       "  'output_mapping': {'tabular_joiner.documents': 'documents'}}}"
      ]
     },
     "execution_count": 4,
     "metadata": {},
     "output_type": "execute_result"
    }
   ],
   "source": [
    "sc.to_pipeline_wrapper_dict()"
   ]
  },
  {
   "cell_type": "code",
   "execution_count": 5,
   "metadata": {},
   "outputs": [
    {
     "data": {
      "text/plain": [
       "<haystack_experimental.components.wrappers.pipeline_wrapper.PipelineWrapper object at 0x127cf4620>\n",
       "Inputs:\n",
       "  - meta: Union[Dict[str, Any], List[Dict[str, Any]]]\n",
       "  - extraction_kwargs: Optional[Dict[str, Any]]\n",
       "  - sources: List[Union[str, Path, ByteStream]]\n",
       "  - documents: List[Document]\n",
       "  - top_k: Optional[int]\n",
       "Outputs:\n",
       "  - documents: List[Document]"
      ]
     },
     "execution_count": 5,
     "metadata": {},
     "output_type": "execute_result"
    }
   ],
   "source": [
    "from haystack_experimental.components.wrappers.pipeline_wrapper import PipelineWrapper\n",
    "\n",
    "PipelineWrapper.from_dict(sc.to_pipeline_wrapper_dict())"
   ]
  },
  {
   "cell_type": "code",
   "execution_count": null,
   "metadata": {},
   "outputs": [],
   "source": []
  }
 ],
 "metadata": {
  "kernelspec": {
   "display_name": ".venv",
   "language": "python",
   "name": "python3"
  },
  "language_info": {
   "codemirror_mode": {
    "name": "ipython",
    "version": 3
   },
   "file_extension": ".py",
   "mimetype": "text/x-python",
   "name": "python",
   "nbconvert_exporter": "python",
   "pygments_lexer": "ipython3",
   "version": "3.13.1"
  }
 },
 "nbformat": 4,
 "nbformat_minor": 2
}
